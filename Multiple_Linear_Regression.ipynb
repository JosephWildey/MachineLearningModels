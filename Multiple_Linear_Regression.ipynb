{
  "cells": [
    {
      "cell_type": "markdown",
      "metadata": {
        "id": "view-in-github",
        "colab_type": "text"
      },
      "source": [
        "<a href=\"https://colab.research.google.com/github/JosephWildey/MachineLearningModels/blob/main/Multiple_Linear_Regression.ipynb\" target=\"_parent\"><img src=\"https://colab.research.google.com/assets/colab-badge.svg\" alt=\"Open In Colab\"/></a>"
      ]
    },
    {
      "cell_type": "markdown",
      "id": "01a49294",
      "metadata": {
        "id": "01a49294"
      },
      "source": [
        "# Multiple Linear Regression"
      ]
    },
    {
      "cell_type": "markdown",
      "id": "f067ce73",
      "metadata": {
        "id": "f067ce73"
      },
      "source": [
        "## import libraries"
      ]
    },
    {
      "cell_type": "code",
      "execution_count": null,
      "id": "5c34508f",
      "metadata": {
        "id": "5c34508f"
      },
      "outputs": [],
      "source": [
        "import numpy as np\n",
        "import matplotlib.pyplot as plt\n",
        "import pandas as pd"
      ]
    },
    {
      "cell_type": "markdown",
      "id": "96344932",
      "metadata": {
        "id": "96344932"
      },
      "source": [
        "## import the dataset"
      ]
    },
    {
      "cell_type": "code",
      "execution_count": null,
      "id": "4eebdceb",
      "metadata": {
        "id": "4eebdceb"
      },
      "outputs": [],
      "source": [
        "dataset = pd.read_csv(\"/home/joe/Documents/ML-Resources/50_Startups.csv\")\n",
        "x = dataset.iloc[:, :-1].values\n",
        "y = dataset.iloc[:, -1].values"
      ]
    },
    {
      "cell_type": "markdown",
      "id": "2a160281",
      "metadata": {
        "id": "2a160281"
      },
      "source": [
        "## Encoding Categorical Data\n",
        "\n",
        "Keep in mind the country data will switch from the final column to the first column"
      ]
    },
    {
      "cell_type": "code",
      "execution_count": null,
      "id": "028e807a",
      "metadata": {
        "id": "028e807a"
      },
      "outputs": [],
      "source": [
        "from sklearn.compose import ColumnTransformer\n",
        "from sklearn.preprocessing import OneHotEncoder\n",
        "ct = ColumnTransformer(transformers=[('encoder', OneHotEncoder(), [-1])], remainder='passthrough')\n",
        "x = np.array(ct.fit_transform(x))"
      ]
    },
    {
      "cell_type": "markdown",
      "id": "ba6ce584",
      "metadata": {
        "id": "ba6ce584"
      },
      "source": [
        "# Splitting the dataset into the Training dataset and Test dataset"
      ]
    },
    {
      "cell_type": "code",
      "execution_count": null,
      "id": "1508ecdc",
      "metadata": {
        "id": "1508ecdc"
      },
      "outputs": [],
      "source": [
        "from sklearn.model_selection import train_test_split\n",
        "X_train, X_test, Y_train, Y_test = train_test_split(x, y, test_size = 0.2, random_state = 1)"
      ]
    },
    {
      "cell_type": "markdown",
      "id": "65b4c1a0",
      "metadata": {
        "id": "65b4c1a0"
      },
      "source": [
        "## Training the Multiple Linear Regression Model on the Training set"
      ]
    },
    {
      "cell_type": "code",
      "execution_count": null,
      "id": "49445888",
      "metadata": {
        "id": "49445888",
        "outputId": "5a7c423d-8c62-4479-d3fd-f9c4b378c716"
      },
      "outputs": [
        {
          "data": {
            "text/html": [
              "<style>#sk-container-id-1 {color: black;background-color: white;}#sk-container-id-1 pre{padding: 0;}#sk-container-id-1 div.sk-toggleable {background-color: white;}#sk-container-id-1 label.sk-toggleable__label {cursor: pointer;display: block;width: 100%;margin-bottom: 0;padding: 0.3em;box-sizing: border-box;text-align: center;}#sk-container-id-1 label.sk-toggleable__label-arrow:before {content: \"▸\";float: left;margin-right: 0.25em;color: #696969;}#sk-container-id-1 label.sk-toggleable__label-arrow:hover:before {color: black;}#sk-container-id-1 div.sk-estimator:hover label.sk-toggleable__label-arrow:before {color: black;}#sk-container-id-1 div.sk-toggleable__content {max-height: 0;max-width: 0;overflow: hidden;text-align: left;background-color: #f0f8ff;}#sk-container-id-1 div.sk-toggleable__content pre {margin: 0.2em;color: black;border-radius: 0.25em;background-color: #f0f8ff;}#sk-container-id-1 input.sk-toggleable__control:checked~div.sk-toggleable__content {max-height: 200px;max-width: 100%;overflow: auto;}#sk-container-id-1 input.sk-toggleable__control:checked~label.sk-toggleable__label-arrow:before {content: \"▾\";}#sk-container-id-1 div.sk-estimator input.sk-toggleable__control:checked~label.sk-toggleable__label {background-color: #d4ebff;}#sk-container-id-1 div.sk-label input.sk-toggleable__control:checked~label.sk-toggleable__label {background-color: #d4ebff;}#sk-container-id-1 input.sk-hidden--visually {border: 0;clip: rect(1px 1px 1px 1px);clip: rect(1px, 1px, 1px, 1px);height: 1px;margin: -1px;overflow: hidden;padding: 0;position: absolute;width: 1px;}#sk-container-id-1 div.sk-estimator {font-family: monospace;background-color: #f0f8ff;border: 1px dotted black;border-radius: 0.25em;box-sizing: border-box;margin-bottom: 0.5em;}#sk-container-id-1 div.sk-estimator:hover {background-color: #d4ebff;}#sk-container-id-1 div.sk-parallel-item::after {content: \"\";width: 100%;border-bottom: 1px solid gray;flex-grow: 1;}#sk-container-id-1 div.sk-label:hover label.sk-toggleable__label {background-color: #d4ebff;}#sk-container-id-1 div.sk-serial::before {content: \"\";position: absolute;border-left: 1px solid gray;box-sizing: border-box;top: 0;bottom: 0;left: 50%;z-index: 0;}#sk-container-id-1 div.sk-serial {display: flex;flex-direction: column;align-items: center;background-color: white;padding-right: 0.2em;padding-left: 0.2em;position: relative;}#sk-container-id-1 div.sk-item {position: relative;z-index: 1;}#sk-container-id-1 div.sk-parallel {display: flex;align-items: stretch;justify-content: center;background-color: white;position: relative;}#sk-container-id-1 div.sk-item::before, #sk-container-id-1 div.sk-parallel-item::before {content: \"\";position: absolute;border-left: 1px solid gray;box-sizing: border-box;top: 0;bottom: 0;left: 50%;z-index: -1;}#sk-container-id-1 div.sk-parallel-item {display: flex;flex-direction: column;z-index: 1;position: relative;background-color: white;}#sk-container-id-1 div.sk-parallel-item:first-child::after {align-self: flex-end;width: 50%;}#sk-container-id-1 div.sk-parallel-item:last-child::after {align-self: flex-start;width: 50%;}#sk-container-id-1 div.sk-parallel-item:only-child::after {width: 0;}#sk-container-id-1 div.sk-dashed-wrapped {border: 1px dashed gray;margin: 0 0.4em 0.5em 0.4em;box-sizing: border-box;padding-bottom: 0.4em;background-color: white;}#sk-container-id-1 div.sk-label label {font-family: monospace;font-weight: bold;display: inline-block;line-height: 1.2em;}#sk-container-id-1 div.sk-label-container {text-align: center;}#sk-container-id-1 div.sk-container {/* jupyter's `normalize.less` sets `[hidden] { display: none; }` but bootstrap.min.css set `[hidden] { display: none !important; }` so we also need the `!important` here to be able to override the default hidden behavior on the sphinx rendered scikit-learn.org. See: https://github.com/scikit-learn/scikit-learn/issues/21755 */display: inline-block !important;position: relative;}#sk-container-id-1 div.sk-text-repr-fallback {display: none;}</style><div id=\"sk-container-id-1\" class=\"sk-top-container\"><div class=\"sk-text-repr-fallback\"><pre>LinearRegression()</pre><b>In a Jupyter environment, please rerun this cell to show the HTML representation or trust the notebook. <br />On GitHub, the HTML representation is unable to render, please try loading this page with nbviewer.org.</b></div><div class=\"sk-container\" hidden><div class=\"sk-item\"><div class=\"sk-estimator sk-toggleable\"><input class=\"sk-toggleable__control sk-hidden--visually\" id=\"sk-estimator-id-1\" type=\"checkbox\" checked><label for=\"sk-estimator-id-1\" class=\"sk-toggleable__label sk-toggleable__label-arrow\">LinearRegression</label><div class=\"sk-toggleable__content\"><pre>LinearRegression()</pre></div></div></div></div></div>"
            ],
            "text/plain": [
              "LinearRegression()"
            ]
          },
          "execution_count": 7,
          "metadata": {},
          "output_type": "execute_result"
        }
      ],
      "source": [
        "from sklearn.linear_model import LinearRegression\n",
        "regressor = LinearRegression()\n",
        "regressor.fit(X_train, Y_train)"
      ]
    },
    {
      "cell_type": "markdown",
      "id": "366ae142",
      "metadata": {
        "id": "366ae142"
      },
      "source": [
        "## Predicting the Test Set Results\n",
        "\n",
        "Import caveat: This dataset has several features, not just one. Up to now everything has followed the same methodology as having one feature.\n",
        "\n",
        "Instead of attempting to graph a 5-D plot, we will display two vectors. The first vector will be the real profit in the test set. There will also be a vector to show predicted results.\n",
        "\n",
        "The step to get the first vector is the same as to get the prediction in Simple Linear Regression.\n",
        "\n",
        "The final step will be to display the first vector and predicted vector results side-by-side using Numpy. Numpy has a lot of methods to handle arrays making it a natural choice for this goal.The method is concatenate which allows the concatenation of either vertically or horizontally two vectors or even arrays.\n",
        "\n",
        "The step of combining and displaying two vectors starts with print, so we can print the output to the screen. Within print we can call the concatenate method of numpy.The concatenate method requires two vectors of the same shape (eg. 3x1, 3x1 or 1x3, 1x3). Also, they must be in parentheses because the concatenate method expects a tuple of vectors to concatenate.\n",
        "\n",
        "Reshape is an attribute function of numpy concatenate that allows you to reshape vectors vertically or horizontally. We use len because the function requires the amount of columns in y_pred. The same idea can then be applied to the second vector, Y_test.\n",
        "\n",
        "Concatenate can take two arguments: 0 or 1. 0 means you want to a vertical concatenation, and 1 means you want to do a horizontal concatenation."
      ]
    },
    {
      "cell_type": "code",
      "execution_count": null,
      "id": "92e4f0e3",
      "metadata": {
        "id": "92e4f0e3",
        "outputId": "4cc3f9c5-36b7-49b3-cb2a-d9005b81a669"
      },
      "outputs": [
        {
          "name": "stdout",
          "output_type": "stream",
          "text": [
            "[[114664.42 105008.31]\n",
            " [ 90593.16  96479.51]\n",
            " [ 75692.84  78239.91]\n",
            " [ 70221.89  81229.06]\n",
            " [179790.26 191050.39]\n",
            " [171576.92 182901.99]\n",
            " [ 49753.59  35673.41]\n",
            " [102276.66 101004.64]\n",
            " [ 58649.38  49490.75]\n",
            " [ 98272.03  97483.56]]\n"
          ]
        }
      ],
      "source": [
        "y_pred = regressor.predict(X_test)\n",
        "np.set_printoptions(precision=2)\n",
        "print(np.concatenate((y_pred.reshape(len(y_pred), 1), Y_test.reshape(len(Y_test), 1)), 1))"
      ]
    },
    {
      "cell_type": "markdown",
      "id": "d1656aef",
      "metadata": {
        "id": "d1656aef"
      },
      "source": [
        "## Making a Single Prediction"
      ]
    },
    {
      "cell_type": "code",
      "execution_count": null,
      "id": "733dfb9b",
      "metadata": {
        "id": "733dfb9b",
        "outputId": "9f301a8d-408d-4a58-e87e-b1e13b59b613"
      },
      "outputs": [
        {
          "name": "stdout",
          "output_type": "stream",
          "text": [
            "[180892.25]\n"
          ]
        }
      ],
      "source": [
        "print(regressor.predict([[1, 0, 0, 160000, 130000, 300000]]))"
      ]
    },
    {
      "cell_type": "markdown",
      "id": "18683d1b",
      "metadata": {
        "id": "18683d1b"
      },
      "source": [
        "This means according to our model that the profit of a Californian startup which spent 160,000 in R&D, 130,000 in Admin, and $300,000 in marketing was $180,892.25.\n",
        "\n",
        "We use a double array because the predict function always expects a 2d array. \n",
        "\n",
        "Dummy variables are the first three values, not the last three."
      ]
    },
    {
      "cell_type": "markdown",
      "id": "990f52e9",
      "metadata": {
        "id": "990f52e9"
      },
      "source": [
        "## Getting the final linear regression equation with the values of the coefficients"
      ]
    },
    {
      "cell_type": "code",
      "execution_count": null,
      "id": "95617b25",
      "metadata": {
        "id": "95617b25",
        "outputId": "0727750e-95df-48e9-a745-a0b911c17354"
      },
      "outputs": [
        {
          "name": "stdout",
          "output_type": "stream",
          "text": [
            "[-2.85e+02  2.98e+02 -1.24e+01  7.74e-01 -9.44e-03  2.89e-02]\n",
            "49834.885073230675\n"
          ]
        }
      ],
      "source": [
        "print(regressor.coef_)\n",
        "print(regressor.intercept_)"
      ]
    },
    {
      "cell_type": "markdown",
      "id": "246ab7a1",
      "metadata": {
        "id": "246ab7a1"
      },
      "source": [
        "Profit = -285 x Dummy State 1 + 298 x Dummy State 2 - 12.4 x Dummy State 3 + 0.774 x R&D Spend - 0.00944 x Admin 0.0289 x Marketing + 49834.89"
      ]
    }
  ],
  "metadata": {
    "kernelspec": {
      "display_name": "Python 3 (ipykernel)",
      "language": "python",
      "name": "python3"
    },
    "language_info": {
      "codemirror_mode": {
        "name": "ipython",
        "version": 3
      },
      "file_extension": ".py",
      "mimetype": "text/x-python",
      "name": "python",
      "nbconvert_exporter": "python",
      "pygments_lexer": "ipython3",
      "version": "3.10.5"
    },
    "colab": {
      "name": "Multiple Linear Regression.ipynb",
      "provenance": [],
      "include_colab_link": true
    }
  },
  "nbformat": 4,
  "nbformat_minor": 5
}