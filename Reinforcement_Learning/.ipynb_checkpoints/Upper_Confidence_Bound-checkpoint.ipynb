{
 "cells": [
  {
   "cell_type": "markdown",
   "id": "14201287-8d7b-4e90-b91b-b475ebf0f6bd",
   "metadata": {},
   "source": [
    "# Upper Confidence Bound (UCB)"
   ]
  },
  {
   "cell_type": "markdown",
   "id": "f74ffbd2-71ef-4bd7-a6f4-5fbedb2718e2",
   "metadata": {},
   "source": [
    "## UCB Intuition\n",
    "\n",
    "This algorithm is good for making a choice when there are multiple possibilities, and it is difficult initially to determine which possibility may be the best. It differs from A/B testing by combining the exploration and explotation steps by accounting for regret with each experiment within a cycle. If there are 500 experiments for options A-E, and the first run D goes poorly it will reduce the likely outcome range, and lower the upper bound of possibility. It may make suboptimal choices along the way until it's completely positive it knows the optimal choice. "
   ]
  },
  {
   "cell_type": "markdown",
   "id": "bf5fc655-5fd6-460e-b9ce-54aeef3e96b8",
   "metadata": {},
   "source": [
    "## Importing the libraries"
   ]
  },
  {
   "cell_type": "code",
   "execution_count": null,
   "id": "3ec9c18d-61e3-487c-8441-c4f3f32072ca",
   "metadata": {},
   "outputs": [],
   "source": [
    "import numpy as np\n",
    "import matplotlib.pyplot as plt\n",
    "import pandas as pd"
   ]
  },
  {
   "cell_type": "code",
   "execution_count": null,
   "id": "9eb06668-ce16-404e-9c6e-70b69301227b",
   "metadata": {},
   "outputs": [],
   "source": []
  }
 ],
 "metadata": {
  "kernelspec": {
   "display_name": "Python 3 (ipykernel)",
   "language": "python",
   "name": "python3"
  },
  "language_info": {
   "codemirror_mode": {
    "name": "ipython",
    "version": 3
   },
   "file_extension": ".py",
   "mimetype": "text/x-python",
   "name": "python",
   "nbconvert_exporter": "python",
   "pygments_lexer": "ipython3",
   "version": "3.9.12"
  }
 },
 "nbformat": 4,
 "nbformat_minor": 5
}
