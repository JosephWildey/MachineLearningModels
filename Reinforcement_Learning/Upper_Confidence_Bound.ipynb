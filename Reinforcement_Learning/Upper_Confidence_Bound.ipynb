{
 "cells": [
  {
   "cell_type": "markdown",
   "id": "14201287-8d7b-4e90-b91b-b475ebf0f6bd",
   "metadata": {},
   "source": [
    "# Upper Confidence Bound (UCB)"
   ]
  },
  {
   "cell_type": "markdown",
   "id": "f74ffbd2-71ef-4bd7-a6f4-5fbedb2718e2",
   "metadata": {},
   "source": [
    "## UCB Intuition\n",
    "\n",
    "This algorithm is good for making a choice when there are multiple possibilities, and it is difficult initially to determine which possibility may be the best. It differs from A/B testing by combining the exploration and explotation steps by accounting for regret with each experiment within a cycle. If there are 500 experiments for options A-E, and the first run D goes poorly it will reduce the likely outcome range, and lower the upper bound of possibility. It may make suboptimal choices along the way until it's completely positive it knows the optimal choice. "
   ]
  },
  {
   "cell_type": "markdown",
   "id": "bf5fc655-5fd6-460e-b9ce-54aeef3e96b8",
   "metadata": {},
   "source": [
    "## Importing the libraries"
   ]
  },
  {
   "cell_type": "code",
   "execution_count": 1,
   "id": "3ec9c18d-61e3-487c-8441-c4f3f32072ca",
   "metadata": {
    "vscode": {
     "languageId": "python"
    }
   },
   "outputs": [],
   "source": [
    "import numpy as np\n",
    "import matplotlib.pyplot as plt\n",
    "import pandas as pd"
   ]
  },
  {
   "cell_type": "markdown",
   "id": "94ecd24a-24df-44c5-9ae4-52c534a25f23",
   "metadata": {},
   "source": [
    "## Importing the Dataset"
   ]
  },
  {
   "cell_type": "code",
   "execution_count": 9,
   "id": "e8fbe06e-929e-43b9-8242-ff385a0afe0a",
   "metadata": {
    "vscode": {
     "languageId": "python"
    }
   },
   "outputs": [],
   "source": [
    "dataset = pd.read_csv('C:\\\\Users\\\\JoeWi\\\\MachineLearningModels\\\\Data\\\\Ads_CTR_Optimisation.csv')"
   ]
  },
  {
   "cell_type": "markdown",
   "id": "f332838e-8e3d-4f37-b1b4-8ef41b1059c8",
   "metadata": {},
   "source": [
    "## Implementing UCB\n",
    "\n",
    "I sat N to the number of rows present in the dataset. This means if you had a similar dataset with fewer or more rows it would not be a problem. Each row represents a choice that was made and recorded. \n",
    "\n",
    "I sat d to the number of columns present in the dataset. This means the script can handle more than or less than 10 ads/possible choices without any extra work."
   ]
  },
  {
   "cell_type": "code",
   "execution_count": 10,
   "id": "f09657fc-227c-4aea-929b-9ac4f3cb26b5",
   "metadata": {
    "vscode": {
     "languageId": "python"
    }
   },
   "outputs": [],
   "source": [
    "import math\n",
    "\n",
    "N = len(dataset)\n",
    "d = len(dataset.columns)\n",
    "\n",
    "ads_selected = []\n",
    "numbers_of_selections = [0] * d\n",
    "sums_of_rewards = [0] * d\n",
    "total_reward = 0\n",
    "\n",
    "for n in range(0, N):\n",
    "    ad = 0\n",
    "    max_upper_bound = 0\n",
    "    for i in range(0, d):\n",
    "        if (numbers_of_selections[i] > 0):\n",
    "            average_reward = sums_of_rewards[i] / numbers_of_selections[i]\n",
    "            delta_i = math.sqrt(3/2 * math.log(n + 1) / numbers_of_selections[i])\n",
    "            upper_bound = average_reward + delta_i\n",
    "        else:\n",
    "            upper_bound = 1e400\n",
    "        if upper_bound > max_upper_bound:\n",
    "            max_upper_bound = upper_bound\n",
    "            ad = i\n",
    "        ads_selected.append(ad)\n",
    "        numbers_of_selections[ad] = numbers_of_selections[ad] + 1\n",
    "        reward = dataset.values[n, ad]\n",
    "        sums_of_rewards[ad] = sums_of_rewards[ad] + reward\n",
    "        total_reward = total_reward + reward"
   ]
  },
  {
   "cell_type": "markdown",
   "id": "d0b92a22-a32d-4ef4-8d6d-abf3d4e766c1",
   "metadata": {},
   "source": [
    "## Visualizing the results"
   ]
  },
  {
   "cell_type": "code",
   "execution_count": 11,
   "id": "65430ec3-cb82-46ca-a6ad-7bf8d1cea9cb",
   "metadata": {
    "vscode": {
     "languageId": "python"
    }
   },
   "outputs": [
    {
     "data": {
      "image/png": "[encoded data removed]",
      "text/plain": [
       "<Figure size 432x288 with 1 Axes>"
      ]
     },
     "metadata": {
      "needs_background": "light"
     },
     "output_type": "display_data"
    }
   ],
   "source": [
    "plt.hist(ads_selected)\n",
    "plt.title('Histogram of ads selections')\n",
    "plt.xlabel('Ads')\n",
    "plt.ylabel('Number of times each ad was selected')\n",
    "plt.show()"
   ]
  }
 ],
 "metadata": {
  "kernelspec": {
   "display_name": "tensorflow",
   "language": "python",
   "name": "tensorflow"
  },
  "language_info": {
   "codemirror_mode": {
    "name": "ipython",
    "version": 3
   },
   "file_extension": ".py",
   "mimetype": "text/x-python",
   "name": "python",
   "nbconvert_exporter": "python",
   "pygments_lexer": "ipython3",
   "version": "3.7.12"
  }
 },
 "nbformat": 4,
 "nbformat_minor": 5
}
