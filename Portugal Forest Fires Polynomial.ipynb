{
 "cells": [
  {
   "cell_type": "markdown",
   "id": "5cdef4b0",
   "metadata": {},
   "source": [
    "# Forest Fires Portugal 5-degree Polynomial Regression\n",
    "\n",
    "References\n",
    "\n",
    "[Cortez and Morais, 2007] P. Cortez and A. Morais. A Data Mining Approach to Predict Forest Fires using Meteorological Data. In J. Neves, M. F. Santos and J. Machado Eds., New Trends in Artificial Intelligence, Proceedings of the 13th EPIA 2007 - Portuguese Conference on Artificial Intelligence, December, Guimarães, Portugal, pp. 512-523, 2007. APPIA, ISBN-13 978-989-95618-0-9. Available at: http://www.dsi.uminho.pt/~pcortez/fires.pdf\n",
    "\n",
    "Dua, D. and Graff, C. (2019). UCI Machine Learning Repository [http://archive.ics.uci.edu/ml]. Irvine, CA: University of California, School of Information and Computer Science. "
   ]
  },
  {
   "cell_type": "markdown",
   "id": "c265500f",
   "metadata": {},
   "source": [
    "## Import libraries"
   ]
  },
  {
   "cell_type": "code",
   "execution_count": 166,
   "id": "7fa5e587",
   "metadata": {},
   "outputs": [],
   "source": [
    "import numpy as np\n",
    "import matplotlib.pyplot as plt\n",
    "import pandas as pd"
   ]
  },
  {
   "cell_type": "markdown",
   "id": "e8fb9f6d",
   "metadata": {},
   "source": [
    "## Import dataset\n",
    "\n",
    "The output of this dataset tends to skew toward 0, therefore the input needs to be transformed by its log in order to produce a high correlation"
   ]
  },
  {
   "cell_type": "code",
   "execution_count": 189,
   "id": "81792bf6",
   "metadata": {},
   "outputs": [],
   "source": [
    "dataset = pd.read_csv(\"/home/joe/Documents/ML-Resources/forestfires.csv\")\n",
    "x = dataset.iloc[:, :-1].values\n",
    "y = dataset.iloc[:, -1].values\n",
    "\n",
    "x = x.astype(float)\n",
    "\n",
    "x = np.log1p(x)\n",
    "\n",
    "y = y.reshape(len(y), 1)"
   ]
  },
  {
   "cell_type": "markdown",
   "id": "bbfd671c",
   "metadata": {},
   "source": [
    "## Taking care of missing data\n",
    "\n",
    "I don't know if this dataset has missing data, but just in case."
   ]
  },
  {
   "cell_type": "code",
   "execution_count": 190,
   "id": "bcc0c57d",
   "metadata": {},
   "outputs": [],
   "source": [
    "from sklearn.impute import SimpleImputer\n",
    "imputer = SimpleImputer(missing_values=np.nan, strategy='mean')\n",
    "imputer.fit(x[:, 1:3])\n",
    "x[:, 1:3] = imputer.transform(x[:, 1:3])"
   ]
  },
  {
   "cell_type": "markdown",
   "id": "17f90a9f",
   "metadata": {},
   "source": [
    "## Feature scaling\n",
    "\n",
    "Normally not required here, but this is the best r-score I have ever gotten. Likely due to the difference in input and output."
   ]
  },
  {
   "cell_type": "code",
   "execution_count": 191,
   "id": "ced01156",
   "metadata": {},
   "outputs": [],
   "source": [
    "from sklearn.preprocessing import StandardScaler\n",
    "sc_x = StandardScaler()\n",
    "sc_y = StandardScaler()\n",
    "x = sc_x.fit_transform(x)\n",
    "y = sc_y.fit_transform(y)"
   ]
  },
  {
   "cell_type": "markdown",
   "id": "2bb67a13",
   "metadata": {},
   "source": [
    "## Split data"
   ]
  },
  {
   "cell_type": "code",
   "execution_count": 192,
   "id": "e9ffd43b",
   "metadata": {},
   "outputs": [],
   "source": [
    "from sklearn.model_selection import train_test_split\n",
    "X_train, X_test, Y_train, Y_test = train_test_split(x, y, test_size = 0.2, random_state = 1)"
   ]
  },
  {
   "cell_type": "markdown",
   "id": "f1a17004",
   "metadata": {},
   "source": [
    "## Train Linear Regression"
   ]
  },
  {
   "cell_type": "code",
   "execution_count": 193,
   "id": "df08d31e",
   "metadata": {},
   "outputs": [
    {
     "data": {
      "text/html": [
       "<style>#sk-container-id-23 {color: black;background-color: white;}#sk-container-id-23 pre{padding: 0;}#sk-container-id-23 div.sk-toggleable {background-color: white;}#sk-container-id-23 label.sk-toggleable__label {cursor: pointer;display: block;width: 100%;margin-bottom: 0;padding: 0.3em;box-sizing: border-box;text-align: center;}#sk-container-id-23 label.sk-toggleable__label-arrow:before {content: \"▸\";float: left;margin-right: 0.25em;color: #696969;}#sk-container-id-23 label.sk-toggleable__label-arrow:hover:before {color: black;}#sk-container-id-23 div.sk-estimator:hover label.sk-toggleable__label-arrow:before {color: black;}#sk-container-id-23 div.sk-toggleable__content {max-height: 0;max-width: 0;overflow: hidden;text-align: left;background-color: #f0f8ff;}#sk-container-id-23 div.sk-toggleable__content pre {margin: 0.2em;color: black;border-radius: 0.25em;background-color: #f0f8ff;}#sk-container-id-23 input.sk-toggleable__control:checked~div.sk-toggleable__content {max-height: 200px;max-width: 100%;overflow: auto;}#sk-container-id-23 input.sk-toggleable__control:checked~label.sk-toggleable__label-arrow:before {content: \"▾\";}#sk-container-id-23 div.sk-estimator input.sk-toggleable__control:checked~label.sk-toggleable__label {background-color: #d4ebff;}#sk-container-id-23 div.sk-label input.sk-toggleable__control:checked~label.sk-toggleable__label {background-color: #d4ebff;}#sk-container-id-23 input.sk-hidden--visually {border: 0;clip: rect(1px 1px 1px 1px);clip: rect(1px, 1px, 1px, 1px);height: 1px;margin: -1px;overflow: hidden;padding: 0;position: absolute;width: 1px;}#sk-container-id-23 div.sk-estimator {font-family: monospace;background-color: #f0f8ff;border: 1px dotted black;border-radius: 0.25em;box-sizing: border-box;margin-bottom: 0.5em;}#sk-container-id-23 div.sk-estimator:hover {background-color: #d4ebff;}#sk-container-id-23 div.sk-parallel-item::after {content: \"\";width: 100%;border-bottom: 1px solid gray;flex-grow: 1;}#sk-container-id-23 div.sk-label:hover label.sk-toggleable__label {background-color: #d4ebff;}#sk-container-id-23 div.sk-serial::before {content: \"\";position: absolute;border-left: 1px solid gray;box-sizing: border-box;top: 0;bottom: 0;left: 50%;z-index: 0;}#sk-container-id-23 div.sk-serial {display: flex;flex-direction: column;align-items: center;background-color: white;padding-right: 0.2em;padding-left: 0.2em;position: relative;}#sk-container-id-23 div.sk-item {position: relative;z-index: 1;}#sk-container-id-23 div.sk-parallel {display: flex;align-items: stretch;justify-content: center;background-color: white;position: relative;}#sk-container-id-23 div.sk-item::before, #sk-container-id-23 div.sk-parallel-item::before {content: \"\";position: absolute;border-left: 1px solid gray;box-sizing: border-box;top: 0;bottom: 0;left: 50%;z-index: -1;}#sk-container-id-23 div.sk-parallel-item {display: flex;flex-direction: column;z-index: 1;position: relative;background-color: white;}#sk-container-id-23 div.sk-parallel-item:first-child::after {align-self: flex-end;width: 50%;}#sk-container-id-23 div.sk-parallel-item:last-child::after {align-self: flex-start;width: 50%;}#sk-container-id-23 div.sk-parallel-item:only-child::after {width: 0;}#sk-container-id-23 div.sk-dashed-wrapped {border: 1px dashed gray;margin: 0 0.4em 0.5em 0.4em;box-sizing: border-box;padding-bottom: 0.4em;background-color: white;}#sk-container-id-23 div.sk-label label {font-family: monospace;font-weight: bold;display: inline-block;line-height: 1.2em;}#sk-container-id-23 div.sk-label-container {text-align: center;}#sk-container-id-23 div.sk-container {/* jupyter's `normalize.less` sets `[hidden] { display: none; }` but bootstrap.min.css set `[hidden] { display: none !important; }` so we also need the `!important` here to be able to override the default hidden behavior on the sphinx rendered scikit-learn.org. See: https://github.com/scikit-learn/scikit-learn/issues/21755 */display: inline-block !important;position: relative;}#sk-container-id-23 div.sk-text-repr-fallback {display: none;}</style><div id=\"sk-container-id-23\" class=\"sk-top-container\"><div class=\"sk-text-repr-fallback\"><pre>LinearRegression()</pre><b>In a Jupyter environment, please rerun this cell to show the HTML representation or trust the notebook. <br />On GitHub, the HTML representation is unable to render, please try loading this page with nbviewer.org.</b></div><div class=\"sk-container\" hidden><div class=\"sk-item\"><div class=\"sk-estimator sk-toggleable\"><input class=\"sk-toggleable__control sk-hidden--visually\" id=\"sk-estimator-id-23\" type=\"checkbox\" checked><label for=\"sk-estimator-id-23\" class=\"sk-toggleable__label sk-toggleable__label-arrow\">LinearRegression</label><div class=\"sk-toggleable__content\"><pre>LinearRegression()</pre></div></div></div></div></div>"
      ],
      "text/plain": [
       "LinearRegression()"
      ]
     },
     "execution_count": 193,
     "metadata": {},
     "output_type": "execute_result"
    }
   ],
   "source": [
    "from sklearn.linear_model import LinearRegression\n",
    "lin_reg = LinearRegression()\n",
    "lin_reg.fit(X_train,Y_train)"
   ]
  },
  {
   "cell_type": "markdown",
   "id": "5c4ee498",
   "metadata": {},
   "source": [
    "## Train Polynomial\n",
    "\n",
    "This is a 5-degree polynomial, one degree for each independent variable. When the amount of independent variables is small (4-5), it seems like n-degree polynomial degrees (where n = independent variables) work the best."
   ]
  },
  {
   "cell_type": "code",
   "execution_count": 204,
   "id": "d35ab6a3",
   "metadata": {},
   "outputs": [
    {
     "data": {
      "text/html": [
       "<style>#sk-container-id-26 {color: black;background-color: white;}#sk-container-id-26 pre{padding: 0;}#sk-container-id-26 div.sk-toggleable {background-color: white;}#sk-container-id-26 label.sk-toggleable__label {cursor: pointer;display: block;width: 100%;margin-bottom: 0;padding: 0.3em;box-sizing: border-box;text-align: center;}#sk-container-id-26 label.sk-toggleable__label-arrow:before {content: \"▸\";float: left;margin-right: 0.25em;color: #696969;}#sk-container-id-26 label.sk-toggleable__label-arrow:hover:before {color: black;}#sk-container-id-26 div.sk-estimator:hover label.sk-toggleable__label-arrow:before {color: black;}#sk-container-id-26 div.sk-toggleable__content {max-height: 0;max-width: 0;overflow: hidden;text-align: left;background-color: #f0f8ff;}#sk-container-id-26 div.sk-toggleable__content pre {margin: 0.2em;color: black;border-radius: 0.25em;background-color: #f0f8ff;}#sk-container-id-26 input.sk-toggleable__control:checked~div.sk-toggleable__content {max-height: 200px;max-width: 100%;overflow: auto;}#sk-container-id-26 input.sk-toggleable__control:checked~label.sk-toggleable__label-arrow:before {content: \"▾\";}#sk-container-id-26 div.sk-estimator input.sk-toggleable__control:checked~label.sk-toggleable__label {background-color: #d4ebff;}#sk-container-id-26 div.sk-label input.sk-toggleable__control:checked~label.sk-toggleable__label {background-color: #d4ebff;}#sk-container-id-26 input.sk-hidden--visually {border: 0;clip: rect(1px 1px 1px 1px);clip: rect(1px, 1px, 1px, 1px);height: 1px;margin: -1px;overflow: hidden;padding: 0;position: absolute;width: 1px;}#sk-container-id-26 div.sk-estimator {font-family: monospace;background-color: #f0f8ff;border: 1px dotted black;border-radius: 0.25em;box-sizing: border-box;margin-bottom: 0.5em;}#sk-container-id-26 div.sk-estimator:hover {background-color: #d4ebff;}#sk-container-id-26 div.sk-parallel-item::after {content: \"\";width: 100%;border-bottom: 1px solid gray;flex-grow: 1;}#sk-container-id-26 div.sk-label:hover label.sk-toggleable__label {background-color: #d4ebff;}#sk-container-id-26 div.sk-serial::before {content: \"\";position: absolute;border-left: 1px solid gray;box-sizing: border-box;top: 0;bottom: 0;left: 50%;z-index: 0;}#sk-container-id-26 div.sk-serial {display: flex;flex-direction: column;align-items: center;background-color: white;padding-right: 0.2em;padding-left: 0.2em;position: relative;}#sk-container-id-26 div.sk-item {position: relative;z-index: 1;}#sk-container-id-26 div.sk-parallel {display: flex;align-items: stretch;justify-content: center;background-color: white;position: relative;}#sk-container-id-26 div.sk-item::before, #sk-container-id-26 div.sk-parallel-item::before {content: \"\";position: absolute;border-left: 1px solid gray;box-sizing: border-box;top: 0;bottom: 0;left: 50%;z-index: -1;}#sk-container-id-26 div.sk-parallel-item {display: flex;flex-direction: column;z-index: 1;position: relative;background-color: white;}#sk-container-id-26 div.sk-parallel-item:first-child::after {align-self: flex-end;width: 50%;}#sk-container-id-26 div.sk-parallel-item:last-child::after {align-self: flex-start;width: 50%;}#sk-container-id-26 div.sk-parallel-item:only-child::after {width: 0;}#sk-container-id-26 div.sk-dashed-wrapped {border: 1px dashed gray;margin: 0 0.4em 0.5em 0.4em;box-sizing: border-box;padding-bottom: 0.4em;background-color: white;}#sk-container-id-26 div.sk-label label {font-family: monospace;font-weight: bold;display: inline-block;line-height: 1.2em;}#sk-container-id-26 div.sk-label-container {text-align: center;}#sk-container-id-26 div.sk-container {/* jupyter's `normalize.less` sets `[hidden] { display: none; }` but bootstrap.min.css set `[hidden] { display: none !important; }` so we also need the `!important` here to be able to override the default hidden behavior on the sphinx rendered scikit-learn.org. See: https://github.com/scikit-learn/scikit-learn/issues/21755 */display: inline-block !important;position: relative;}#sk-container-id-26 div.sk-text-repr-fallback {display: none;}</style><div id=\"sk-container-id-26\" class=\"sk-top-container\"><div class=\"sk-text-repr-fallback\"><pre>LinearRegression()</pre><b>In a Jupyter environment, please rerun this cell to show the HTML representation or trust the notebook. <br />On GitHub, the HTML representation is unable to render, please try loading this page with nbviewer.org.</b></div><div class=\"sk-container\" hidden><div class=\"sk-item\"><div class=\"sk-estimator sk-toggleable\"><input class=\"sk-toggleable__control sk-hidden--visually\" id=\"sk-estimator-id-26\" type=\"checkbox\" checked><label for=\"sk-estimator-id-26\" class=\"sk-toggleable__label sk-toggleable__label-arrow\">LinearRegression</label><div class=\"sk-toggleable__content\"><pre>LinearRegression()</pre></div></div></div></div></div>"
      ],
      "text/plain": [
       "LinearRegression()"
      ]
     },
     "execution_count": 204,
     "metadata": {},
     "output_type": "execute_result"
    }
   ],
   "source": [
    "from sklearn.preprocessing import PolynomialFeatures\n",
    "poly_reg = PolynomialFeatures(degree = 5)\n",
    "x_poly = poly_reg.fit_transform(x)\n",
    "lin_reg_2 = LinearRegression()\n",
    "lin_reg_2.fit(x_poly, y)"
   ]
  },
  {
   "cell_type": "markdown",
   "id": "f8d8fffb",
   "metadata": {},
   "source": [
    "## Predictions"
   ]
  },
  {
   "cell_type": "code",
   "execution_count": 205,
   "id": "f7133bed",
   "metadata": {
    "scrolled": true
   },
   "outputs": [
    {
     "name": "stdout",
     "output_type": "stream",
     "text": [
      "[[-0.15 -0.19]\n",
      " [-0.5  -0.2 ]\n",
      " [-0.16 -0.2 ]\n",
      " [ 0.78  0.36]\n",
      " [ 0.4   0.39]\n",
      " [-0.2  -0.2 ]\n",
      " [ 0.25 -0.18]\n",
      " [-0.24 -0.2 ]\n",
      " [-0.2  -0.2 ]\n",
      " [-0.16 -0.14]\n",
      " [-0.24 -0.2 ]\n",
      " [-0.23 -0.2 ]\n",
      " [-0.19 -0.18]\n",
      " [-0.24 -0.2 ]\n",
      " [-0.06 -0.2 ]\n",
      " [-0.06 -0.2 ]\n",
      " [-0.41 -0.2 ]\n",
      " [-0.25 -0.09]\n",
      " [-0.06 -0.1 ]\n",
      " [-0.14 -0.15]\n",
      " [-0.13 -0.03]\n",
      " [-0.13 -0.2 ]\n",
      " [-0.16 -0.14]\n",
      " [ 0.08 -0.15]\n",
      " [ 0.15 -0.2 ]\n",
      " [-0.13 -0.2 ]\n",
      " [-0.15 -0.2 ]\n",
      " [-0.21 -0.08]\n",
      " [ 1.56 -0.2 ]\n",
      " [ 0.38  0.38]\n",
      " [-0.13 -0.05]\n",
      " [-0.55 -0.2 ]\n",
      " [-0.19 -0.2 ]\n",
      " [ 0.26 -0.09]\n",
      " [ 1.07  1.42]\n",
      " [ 0.39 -0.09]\n",
      " [-0.6  -0.18]\n",
      " [-0.13 -0.17]\n",
      " [-0.04 -0.07]\n",
      " [-0.96 -0.2 ]\n",
      " [ 0.13  0.18]\n",
      " [-0.2  -0.2 ]\n",
      " [ 0.81  0.56]\n",
      " [-0.17 -0.16]\n",
      " [-0.28 -0.15]\n",
      " [-0.28 -0.2 ]\n",
      " [ 0.49  0.53]\n",
      " [-0.17 -0.17]\n",
      " [ 0.33  0.24]\n",
      " [ 1.26 -0.11]\n",
      " [-0.09 -0.2 ]\n",
      " [11.38 11.53]\n",
      " [-0.21 -0.19]\n",
      " [-0.14 -0.2 ]\n",
      " [-0.52 -0.2 ]\n",
      " [-0.27  0.05]\n",
      " [-0.64 -0.2 ]\n",
      " [-0.47 -0.2 ]\n",
      " [-0.13 -0.19]\n",
      " [-0.19 -0.2 ]\n",
      " [-0.22 -0.2 ]\n",
      " [-0.1  -0.11]\n",
      " [ 0.36 -0.2 ]\n",
      " [-0.17 -0.17]\n",
      " [-0.2  -0.2 ]\n",
      " [-0.14 -0.15]\n",
      " [-0.24 -0.2 ]\n",
      " [-1.16 -0.2 ]\n",
      " [ 0.76  0.76]\n",
      " [-0.39 -0.12]\n",
      " [ 1.61  2.72]\n",
      " [-0.18 -0.2 ]\n",
      " [-0.17 -0.1 ]\n",
      " [-0.16 -0.16]\n",
      " [-0.06 -0.06]\n",
      " [-0.06 -0.03]\n",
      " [ 0.07 -0.16]\n",
      " [-0.07 -0.2 ]\n",
      " [-0.25 -0.2 ]\n",
      " [-0.06 -0.18]\n",
      " [-0.2  -0.2 ]\n",
      " [-0.25 -0.16]\n",
      " [ 0.24  1.1 ]\n",
      " [-0.21 -0.2 ]\n",
      " [-0.22 -0.2 ]\n",
      " [-0.08 -0.07]\n",
      " [-0.19 -0.2 ]\n",
      " [-0.24 -0.2 ]\n",
      " [-0.09 -0.19]\n",
      " [ 1.2   1.46]\n",
      " [-0.28 -0.2 ]\n",
      " [-0.2  -0.2 ]\n",
      " [ 0.02  0.02]\n",
      " [-0.66 -0.2 ]\n",
      " [-0.21 -0.2 ]\n",
      " [-0.16 -0.17]\n",
      " [-0.51 -0.19]\n",
      " [-0.2  -0.2 ]\n",
      " [-0.03 -0.2 ]\n",
      " [-0.05 -0.1 ]\n",
      " [-0.21 -0.2 ]\n",
      " [ 0.16 -0.2 ]\n",
      " [-0.07 -0.2 ]\n",
      " [-0.19 -0.19]]\n"
     ]
    }
   ],
   "source": [
    "y_pred = lin_reg_2.predict(poly_reg.transform(X_test))\n",
    "np.set_printoptions(precision=2)\n",
    "print(np.concatenate((y_pred.reshape(len(y_pred),1), Y_test.reshape(len(Y_test),1)),1))"
   ]
  },
  {
   "cell_type": "code",
   "execution_count": 208,
   "id": "49968e7e",
   "metadata": {
    "scrolled": false
   },
   "outputs": [
    {
     "name": "stdout",
     "output_type": "stream",
     "text": [
      "[[ 0.05  0.01 -0.04  0.02 -0.06  0.02]]\n",
      "[-0.02]\n"
     ]
    }
   ],
   "source": [
    "print(lin_reg.coef_)\n",
    "print(lin_reg.intercept_)"
   ]
  },
  {
   "cell_type": "markdown",
   "id": "0d991682",
   "metadata": {},
   "source": [
    "## linear regression equation"
   ]
  },
  {
   "cell_type": "markdown",
   "id": "639d14d7",
   "metadata": {},
   "source": [
    "Area of impact = 0.05 x DMC + 0.01 x DC - 0.04 x ISI + 0.02 x temp - 0.06 x RH + 0.02 x wind - 0.02\n",
    "\n",
    "However, the polynomial equation gives far more accurate results."
   ]
  },
  {
   "cell_type": "code",
   "execution_count": 207,
   "id": "2f278a90",
   "metadata": {
    "scrolled": true
   },
   "outputs": [
    {
     "data": {
      "text/plain": [
       "0.9221518054892045"
      ]
     },
     "execution_count": 207,
     "metadata": {},
     "output_type": "execute_result"
    }
   ],
   "source": [
    "from sklearn.metrics import r2_score\n",
    "r2_score(Y_test, y_pred)"
   ]
  }
 ],
 "metadata": {
  "kernelspec": {
   "display_name": "Python 3 (ipykernel)",
   "language": "python",
   "name": "python3"
  },
  "language_info": {
   "codemirror_mode": {
    "name": "ipython",
    "version": 3
   },
   "file_extension": ".py",
   "mimetype": "text/x-python",
   "name": "python",
   "nbconvert_exporter": "python",
   "pygments_lexer": "ipython3",
   "version": "3.10.5"
  }
 },
 "nbformat": 4,
 "nbformat_minor": 5
}
