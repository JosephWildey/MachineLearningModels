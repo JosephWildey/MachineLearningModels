{
 "cells": [
  {
   "cell_type": "markdown",
   "id": "e350b7ae",
   "metadata": {},
   "source": [
    "# Auto MPG Regression"
   ]
  },
  {
   "cell_type": "markdown",
   "id": "654fe002",
   "metadata": {},
   "source": [
    "## Import libraries"
   ]
  },
  {
   "cell_type": "code",
   "execution_count": 2,
   "id": "1c1c8282",
   "metadata": {},
   "outputs": [],
   "source": [
    "import numpy as np\n",
    "import matplotlib.pyplot as plt\n",
    "import pandas as pd"
   ]
  },
  {
   "cell_type": "markdown",
   "id": "40363e88",
   "metadata": {},
   "source": [
    "## Import dataset\n",
    "\n",
    "This is a dataset containing several values related to almost 400 cars"
   ]
  },
  {
   "cell_type": "code",
   "execution_count": 3,
   "id": "7234540a",
   "metadata": {},
   "outputs": [],
   "source": [
    "dataset = pd.read_csv(\"/home/joe/Documents/ML-Resources/auto-mpg.csv\")\n",
    "x = dataset.iloc[:, :-1].values\n",
    "y = dataset.iloc[:, -1].values"
   ]
  },
  {
   "cell_type": "markdown",
   "id": "d3f5fad5",
   "metadata": {},
   "source": [
    "## Clean missing values\n",
    "\n",
    "The dataset has 6 missing values"
   ]
  },
  {
   "cell_type": "code",
   "execution_count": 4,
   "id": "7d980323",
   "metadata": {},
   "outputs": [],
   "source": [
    "from sklearn.impute import SimpleImputer\n",
    "imputer = SimpleImputer(missing_values=np.nan, strategy='mean')\n",
    "imputer.fit(x[:, 1:4])\n",
    "x[:, 1:4] = imputer.transform(x[:, 1:4])"
   ]
  },
  {
   "cell_type": "markdown",
   "id": "61881d80",
   "metadata": {},
   "source": [
    "## Split dataset"
   ]
  },
  {
   "cell_type": "code",
   "execution_count": 5,
   "id": "6db1030d",
   "metadata": {},
   "outputs": [],
   "source": [
    "from sklearn.model_selection import train_test_split\n",
    "X_train, X_test, Y_train, Y_test = train_test_split(x, y, test_size = 0.2, random_state = 1)"
   ]
  },
  {
   "cell_type": "markdown",
   "id": "e24b74f5",
   "metadata": {},
   "source": [
    "## Train the model\n",
    "\n",
    "Multiple linear regression so I can get coefficient and intercept values"
   ]
  },
  {
   "cell_type": "code",
   "execution_count": 6,
   "id": "a4f561d8",
   "metadata": {},
   "outputs": [
    {
     "data": {
      "text/html": [
       "<style>#sk-container-id-1 {color: black;background-color: white;}#sk-container-id-1 pre{padding: 0;}#sk-container-id-1 div.sk-toggleable {background-color: white;}#sk-container-id-1 label.sk-toggleable__label {cursor: pointer;display: block;width: 100%;margin-bottom: 0;padding: 0.3em;box-sizing: border-box;text-align: center;}#sk-container-id-1 label.sk-toggleable__label-arrow:before {content: \"▸\";float: left;margin-right: 0.25em;color: #696969;}#sk-container-id-1 label.sk-toggleable__label-arrow:hover:before {color: black;}#sk-container-id-1 div.sk-estimator:hover label.sk-toggleable__label-arrow:before {color: black;}#sk-container-id-1 div.sk-toggleable__content {max-height: 0;max-width: 0;overflow: hidden;text-align: left;background-color: #f0f8ff;}#sk-container-id-1 div.sk-toggleable__content pre {margin: 0.2em;color: black;border-radius: 0.25em;background-color: #f0f8ff;}#sk-container-id-1 input.sk-toggleable__control:checked~div.sk-toggleable__content {max-height: 200px;max-width: 100%;overflow: auto;}#sk-container-id-1 input.sk-toggleable__control:checked~label.sk-toggleable__label-arrow:before {content: \"▾\";}#sk-container-id-1 div.sk-estimator input.sk-toggleable__control:checked~label.sk-toggleable__label {background-color: #d4ebff;}#sk-container-id-1 div.sk-label input.sk-toggleable__control:checked~label.sk-toggleable__label {background-color: #d4ebff;}#sk-container-id-1 input.sk-hidden--visually {border: 0;clip: rect(1px 1px 1px 1px);clip: rect(1px, 1px, 1px, 1px);height: 1px;margin: -1px;overflow: hidden;padding: 0;position: absolute;width: 1px;}#sk-container-id-1 div.sk-estimator {font-family: monospace;background-color: #f0f8ff;border: 1px dotted black;border-radius: 0.25em;box-sizing: border-box;margin-bottom: 0.5em;}#sk-container-id-1 div.sk-estimator:hover {background-color: #d4ebff;}#sk-container-id-1 div.sk-parallel-item::after {content: \"\";width: 100%;border-bottom: 1px solid gray;flex-grow: 1;}#sk-container-id-1 div.sk-label:hover label.sk-toggleable__label {background-color: #d4ebff;}#sk-container-id-1 div.sk-serial::before {content: \"\";position: absolute;border-left: 1px solid gray;box-sizing: border-box;top: 0;bottom: 0;left: 50%;z-index: 0;}#sk-container-id-1 div.sk-serial {display: flex;flex-direction: column;align-items: center;background-color: white;padding-right: 0.2em;padding-left: 0.2em;position: relative;}#sk-container-id-1 div.sk-item {position: relative;z-index: 1;}#sk-container-id-1 div.sk-parallel {display: flex;align-items: stretch;justify-content: center;background-color: white;position: relative;}#sk-container-id-1 div.sk-item::before, #sk-container-id-1 div.sk-parallel-item::before {content: \"\";position: absolute;border-left: 1px solid gray;box-sizing: border-box;top: 0;bottom: 0;left: 50%;z-index: -1;}#sk-container-id-1 div.sk-parallel-item {display: flex;flex-direction: column;z-index: 1;position: relative;background-color: white;}#sk-container-id-1 div.sk-parallel-item:first-child::after {align-self: flex-end;width: 50%;}#sk-container-id-1 div.sk-parallel-item:last-child::after {align-self: flex-start;width: 50%;}#sk-container-id-1 div.sk-parallel-item:only-child::after {width: 0;}#sk-container-id-1 div.sk-dashed-wrapped {border: 1px dashed gray;margin: 0 0.4em 0.5em 0.4em;box-sizing: border-box;padding-bottom: 0.4em;background-color: white;}#sk-container-id-1 div.sk-label label {font-family: monospace;font-weight: bold;display: inline-block;line-height: 1.2em;}#sk-container-id-1 div.sk-label-container {text-align: center;}#sk-container-id-1 div.sk-container {/* jupyter's `normalize.less` sets `[hidden] { display: none; }` but bootstrap.min.css set `[hidden] { display: none !important; }` so we also need the `!important` here to be able to override the default hidden behavior on the sphinx rendered scikit-learn.org. See: https://github.com/scikit-learn/scikit-learn/issues/21755 */display: inline-block !important;position: relative;}#sk-container-id-1 div.sk-text-repr-fallback {display: none;}</style><div id=\"sk-container-id-1\" class=\"sk-top-container\"><div class=\"sk-text-repr-fallback\"><pre>LinearRegression()</pre><b>In a Jupyter environment, please rerun this cell to show the HTML representation or trust the notebook. <br />On GitHub, the HTML representation is unable to render, please try loading this page with nbviewer.org.</b></div><div class=\"sk-container\" hidden><div class=\"sk-item\"><div class=\"sk-estimator sk-toggleable\"><input class=\"sk-toggleable__control sk-hidden--visually\" id=\"sk-estimator-id-1\" type=\"checkbox\" checked><label for=\"sk-estimator-id-1\" class=\"sk-toggleable__label sk-toggleable__label-arrow\">LinearRegression</label><div class=\"sk-toggleable__content\"><pre>LinearRegression()</pre></div></div></div></div></div>"
      ],
      "text/plain": [
       "LinearRegression()"
      ]
     },
     "execution_count": 6,
     "metadata": {},
     "output_type": "execute_result"
    }
   ],
   "source": [
    "from sklearn.linear_model import LinearRegression\n",
    "regressor = LinearRegression()\n",
    "regressor.fit(X_train, Y_train)"
   ]
  },
  {
   "cell_type": "markdown",
   "id": "1000e59d",
   "metadata": {},
   "source": [
    "## Predict test result sets"
   ]
  },
  {
   "cell_type": "code",
   "execution_count": 7,
   "id": "2abc6ff2",
   "metadata": {},
   "outputs": [
    {
     "name": "stdout",
     "output_type": "stream",
     "text": [
      "[[29.5  29.  ]\n",
      " [26.43 30.7 ]\n",
      " [21.04 20.2 ]\n",
      " [23.8  17.  ]\n",
      " [23.22 20.6 ]\n",
      " [31.03 29.  ]\n",
      " [26.53 24.  ]\n",
      " [33.9  34.1 ]\n",
      " [15.04 14.5 ]\n",
      " [22.43 18.  ]\n",
      " [29.6  27.  ]\n",
      " [16.42 15.5 ]\n",
      " [22.06 19.2 ]\n",
      " [25.43 21.5 ]\n",
      " [34.69 39.  ]\n",
      " [24.38 25.  ]\n",
      " [ 9.1  14.  ]\n",
      " [22.78 21.  ]\n",
      " [10.94 13.  ]\n",
      " [31.28 37.3 ]\n",
      " [22.65 18.  ]\n",
      " [25.6  24.5 ]\n",
      " [24.37 27.  ]\n",
      " [24.25 28.  ]\n",
      " [24.01 19.1 ]\n",
      " [ 7.43 11.  ]\n",
      " [29.46 32.9 ]\n",
      " [31.21 39.4 ]\n",
      " [ 9.29 15.  ]\n",
      " [28.98 22.  ]\n",
      " [27.89 38.  ]\n",
      " [ 9.37 14.  ]\n",
      " [25.76 26.  ]\n",
      " [29.31 27.2 ]\n",
      " [29.07 26.  ]\n",
      " [16.42 14.  ]\n",
      " [28.52 27.  ]\n",
      " [15.3  13.  ]\n",
      " [32.18 32.  ]\n",
      " [16.53 16.  ]\n",
      " [25.71 23.  ]\n",
      " [30.46 30.5 ]\n",
      " [19.15 16.5 ]\n",
      " [31.56 34.5 ]\n",
      " [28.19 33.5 ]\n",
      " [24.49 20.8 ]\n",
      " [15.59 16.  ]\n",
      " [10.7  14.  ]\n",
      " [24.85 23.  ]\n",
      " [22.14 17.5 ]\n",
      " [26.84 26.  ]\n",
      " [32.51 40.8 ]\n",
      " [17.62 13.  ]\n",
      " [12.75 14.  ]\n",
      " [30.87 30.  ]\n",
      " [23.3  23.  ]\n",
      " [10.06 13.  ]\n",
      " [15.65 17.  ]\n",
      " [28.93 28.  ]\n",
      " [34.78 32.  ]\n",
      " [34.55 37.  ]\n",
      " [34.61 38.  ]\n",
      " [17.41 17.  ]\n",
      " [30.89 30.  ]\n",
      " [32.64 31.9 ]\n",
      " [33.46 38.1 ]\n",
      " [27.53 26.8 ]\n",
      " [24.05 17.6 ]\n",
      " [29.41 26.6 ]\n",
      " [ 8.94 13.  ]\n",
      " [20.18 18.2 ]\n",
      " [24.99 28.  ]\n",
      " [13.28 15.  ]\n",
      " [22.18 25.4 ]\n",
      " [ 6.01 12.  ]\n",
      " [27.66 24.  ]\n",
      " [24.83 30.  ]\n",
      " [15.46 15.  ]\n",
      " [16.72 17.  ]\n",
      " [21.14 21.  ]]\n"
     ]
    }
   ],
   "source": [
    "y_pred = regressor.predict(X_test)\n",
    "np.set_printoptions(precision=2)\n",
    "print(np.concatenate((y_pred.reshape(len(y_pred),1), Y_test.reshape(len(Y_test),1)),1))"
   ]
  },
  {
   "cell_type": "markdown",
   "id": "d6dd6d11",
   "metadata": {},
   "source": [
    "## Making a single prediction"
   ]
  },
  {
   "cell_type": "code",
   "execution_count": 22,
   "id": "af2a2635",
   "metadata": {
    "scrolled": true
   },
   "outputs": [
    {
     "name": "stdout",
     "output_type": "stream",
     "text": [
      "[-23.68]\n"
     ]
    }
   ],
   "source": [
    "print(regressor.predict([[8,6.5,495,3535,3.8,20]]))"
   ]
  },
  {
   "cell_type": "markdown",
   "id": "c1616954",
   "metadata": {},
   "source": [
    "## Getting final coefficient and intercept"
   ]
  },
  {
   "cell_type": "code",
   "execution_count": 23,
   "id": "2961855b",
   "metadata": {},
   "outputs": [
    {
     "name": "stdout",
     "output_type": "stream",
     "text": [
      "[ 1.87e-01 -8.67e-04 -5.54e-04 -6.85e-03  7.13e-02  7.65e-01]\n",
      "-16.235797089555856\n"
     ]
    }
   ],
   "source": [
    "print(regressor.coef_)\n",
    "print(regressor.intercept_)"
   ]
  },
  {
   "cell_type": "markdown",
   "id": "530f78a9",
   "metadata": {},
   "source": [
    "MPG = 0.187 x cylinders - 0.000867 x displacement - 0.000554 x horsepower - 0.00685 x weight - 0.0713 x acceleration + 0.765 x model year - 16.235797089555856"
   ]
  },
  {
   "cell_type": "code",
   "execution_count": 24,
   "id": "0c52a4d2",
   "metadata": {},
   "outputs": [
    {
     "data": {
      "text/plain": [
       "0.797304403123875"
      ]
     },
     "execution_count": 24,
     "metadata": {},
     "output_type": "execute_result"
    }
   ],
   "source": [
    "from sklearn.metrics import r2_score\n",
    "r2_score(Y_test, y_pred)"
   ]
  }
 ],
 "metadata": {
  "kernelspec": {
   "display_name": "Python 3 (ipykernel)",
   "language": "python",
   "name": "python3"
  },
  "language_info": {
   "codemirror_mode": {
    "name": "ipython",
    "version": 3
   },
   "file_extension": ".py",
   "mimetype": "text/x-python",
   "name": "python",
   "nbconvert_exporter": "python",
   "pygments_lexer": "ipython3",
   "version": "3.10.5"
  }
 },
 "nbformat": 4,
 "nbformat_minor": 5
}
