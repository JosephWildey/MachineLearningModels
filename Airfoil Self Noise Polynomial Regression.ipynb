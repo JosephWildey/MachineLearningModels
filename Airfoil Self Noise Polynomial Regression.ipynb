{
 "cells": [
  {
   "cell_type": "markdown",
   "id": "f21bce9d",
   "metadata": {},
   "source": [
    "# Airfoil Self Noise\n",
    "\n",
    "Dataset: https://archive.ics.uci.edu/ml/datasets/airfoil+self-noise#\n",
    "\n",
    "The NASA dataset comprises different size NACA 0012 airfoils at various wind tunnel speeds and angles of attack. The span of the airfoil and the observer position were the same in all of the experiments.\n",
    "\n",
    "Polynomial has given the best fit so far. I think it's going to provide the best fit overall. Decision trees may be worth considering"
   ]
  },
  {
   "cell_type": "markdown",
   "id": "dd884994",
   "metadata": {},
   "source": [
    "## Import libraries"
   ]
  },
  {
   "cell_type": "code",
   "execution_count": 57,
   "id": "ca74829e",
   "metadata": {},
   "outputs": [],
   "source": [
    "import numpy as np\n",
    "import matplotlib.pyplot as plt\n",
    "import pandas as pd"
   ]
  },
  {
   "cell_type": "markdown",
   "id": "143277d9",
   "metadata": {},
   "source": [
    "## Import data"
   ]
  },
  {
   "cell_type": "code",
   "execution_count": 84,
   "id": "bca3bf6b",
   "metadata": {},
   "outputs": [],
   "source": [
    "dataset = pd.read_csv(\"/home/joe/Documents/ML-Resources/airfoil_self_noise.csv\")\n",
    "x = dataset.iloc[:, :-1].values\n",
    "y = dataset.iloc[:, -1].values"
   ]
  },
  {
   "cell_type": "markdown",
   "id": "63d20980",
   "metadata": {},
   "source": [
    "## Taking care of missing values"
   ]
  },
  {
   "cell_type": "code",
   "execution_count": 85,
   "id": "daf0a459",
   "metadata": {},
   "outputs": [],
   "source": [
    "from sklearn.impute import SimpleImputer\n",
    "imputer = SimpleImputer(missing_values=np.nan, strategy='mean')\n",
    "imputer.fit(x[:, 1:3])\n",
    "x[:, 1:3] = imputer.transform(x[:, 1:3])"
   ]
  },
  {
   "cell_type": "markdown",
   "id": "d2f9177f",
   "metadata": {},
   "source": [
    "## Split datasets"
   ]
  },
  {
   "cell_type": "code",
   "execution_count": 86,
   "id": "3e7a719f",
   "metadata": {},
   "outputs": [],
   "source": [
    "from sklearn.model_selection import train_test_split\n",
    "X_train, X_test, Y_train, Y_test = train_test_split(x, y, test_size = 0.2, random_state = 1)"
   ]
  },
  {
   "cell_type": "markdown",
   "id": "5db05b50",
   "metadata": {},
   "source": [
    "## Training Polynomial model"
   ]
  },
  {
   "cell_type": "code",
   "execution_count": 109,
   "id": "4a87afac",
   "metadata": {},
   "outputs": [
    {
     "data": {
      "text/html": [
       "<style>#sk-container-id-15 {color: black;background-color: white;}#sk-container-id-15 pre{padding: 0;}#sk-container-id-15 div.sk-toggleable {background-color: white;}#sk-container-id-15 label.sk-toggleable__label {cursor: pointer;display: block;width: 100%;margin-bottom: 0;padding: 0.3em;box-sizing: border-box;text-align: center;}#sk-container-id-15 label.sk-toggleable__label-arrow:before {content: \"▸\";float: left;margin-right: 0.25em;color: #696969;}#sk-container-id-15 label.sk-toggleable__label-arrow:hover:before {color: black;}#sk-container-id-15 div.sk-estimator:hover label.sk-toggleable__label-arrow:before {color: black;}#sk-container-id-15 div.sk-toggleable__content {max-height: 0;max-width: 0;overflow: hidden;text-align: left;background-color: #f0f8ff;}#sk-container-id-15 div.sk-toggleable__content pre {margin: 0.2em;color: black;border-radius: 0.25em;background-color: #f0f8ff;}#sk-container-id-15 input.sk-toggleable__control:checked~div.sk-toggleable__content {max-height: 200px;max-width: 100%;overflow: auto;}#sk-container-id-15 input.sk-toggleable__control:checked~label.sk-toggleable__label-arrow:before {content: \"▾\";}#sk-container-id-15 div.sk-estimator input.sk-toggleable__control:checked~label.sk-toggleable__label {background-color: #d4ebff;}#sk-container-id-15 div.sk-label input.sk-toggleable__control:checked~label.sk-toggleable__label {background-color: #d4ebff;}#sk-container-id-15 input.sk-hidden--visually {border: 0;clip: rect(1px 1px 1px 1px);clip: rect(1px, 1px, 1px, 1px);height: 1px;margin: -1px;overflow: hidden;padding: 0;position: absolute;width: 1px;}#sk-container-id-15 div.sk-estimator {font-family: monospace;background-color: #f0f8ff;border: 1px dotted black;border-radius: 0.25em;box-sizing: border-box;margin-bottom: 0.5em;}#sk-container-id-15 div.sk-estimator:hover {background-color: #d4ebff;}#sk-container-id-15 div.sk-parallel-item::after {content: \"\";width: 100%;border-bottom: 1px solid gray;flex-grow: 1;}#sk-container-id-15 div.sk-label:hover label.sk-toggleable__label {background-color: #d4ebff;}#sk-container-id-15 div.sk-serial::before {content: \"\";position: absolute;border-left: 1px solid gray;box-sizing: border-box;top: 0;bottom: 0;left: 50%;z-index: 0;}#sk-container-id-15 div.sk-serial {display: flex;flex-direction: column;align-items: center;background-color: white;padding-right: 0.2em;padding-left: 0.2em;position: relative;}#sk-container-id-15 div.sk-item {position: relative;z-index: 1;}#sk-container-id-15 div.sk-parallel {display: flex;align-items: stretch;justify-content: center;background-color: white;position: relative;}#sk-container-id-15 div.sk-item::before, #sk-container-id-15 div.sk-parallel-item::before {content: \"\";position: absolute;border-left: 1px solid gray;box-sizing: border-box;top: 0;bottom: 0;left: 50%;z-index: -1;}#sk-container-id-15 div.sk-parallel-item {display: flex;flex-direction: column;z-index: 1;position: relative;background-color: white;}#sk-container-id-15 div.sk-parallel-item:first-child::after {align-self: flex-end;width: 50%;}#sk-container-id-15 div.sk-parallel-item:last-child::after {align-self: flex-start;width: 50%;}#sk-container-id-15 div.sk-parallel-item:only-child::after {width: 0;}#sk-container-id-15 div.sk-dashed-wrapped {border: 1px dashed gray;margin: 0 0.4em 0.5em 0.4em;box-sizing: border-box;padding-bottom: 0.4em;background-color: white;}#sk-container-id-15 div.sk-label label {font-family: monospace;font-weight: bold;display: inline-block;line-height: 1.2em;}#sk-container-id-15 div.sk-label-container {text-align: center;}#sk-container-id-15 div.sk-container {/* jupyter's `normalize.less` sets `[hidden] { display: none; }` but bootstrap.min.css set `[hidden] { display: none !important; }` so we also need the `!important` here to be able to override the default hidden behavior on the sphinx rendered scikit-learn.org. See: https://github.com/scikit-learn/scikit-learn/issues/21755 */display: inline-block !important;position: relative;}#sk-container-id-15 div.sk-text-repr-fallback {display: none;}</style><div id=\"sk-container-id-15\" class=\"sk-top-container\"><div class=\"sk-text-repr-fallback\"><pre>LinearRegression()</pre><b>In a Jupyter environment, please rerun this cell to show the HTML representation or trust the notebook. <br />On GitHub, the HTML representation is unable to render, please try loading this page with nbviewer.org.</b></div><div class=\"sk-container\" hidden><div class=\"sk-item\"><div class=\"sk-estimator sk-toggleable\"><input class=\"sk-toggleable__control sk-hidden--visually\" id=\"sk-estimator-id-15\" type=\"checkbox\" checked><label for=\"sk-estimator-id-15\" class=\"sk-toggleable__label sk-toggleable__label-arrow\">LinearRegression</label><div class=\"sk-toggleable__content\"><pre>LinearRegression()</pre></div></div></div></div></div>"
      ],
      "text/plain": [
       "LinearRegression()"
      ]
     },
     "execution_count": 109,
     "metadata": {},
     "output_type": "execute_result"
    }
   ],
   "source": [
    "from sklearn.preprocessing import PolynomialFeatures\n",
    "from sklearn.linear_model import LinearRegression\n",
    "poly_reg = PolynomialFeatures(degree = 3)\n",
    "X_poly = poly_reg.fit_transform(X_train)\n",
    "regressor = LinearRegression()\n",
    "regressor.fit(X_poly, Y_train)"
   ]
  },
  {
   "cell_type": "code",
   "execution_count": 110,
   "id": "8f0a4ba2",
   "metadata": {},
   "outputs": [
    {
     "name": "stdout",
     "output_type": "stream",
     "text": [
      "[[119.73 117.74]\n",
      " [117.15 118.12]\n",
      " [126.79 120.66]\n",
      " [129.63 122.23]\n",
      " [131.86 129.34]\n",
      " [128.8  126.59]\n",
      " [131.02 133.44]\n",
      " [128.67 131.58]\n",
      " [124.5  111.91]\n",
      " [127.72 129.97]\n",
      " [119.03 118.62]\n",
      " [126.57 126.34]\n",
      " [123.26 123.92]\n",
      " [126.99 129.  ]\n",
      " [101.89 108.69]\n",
      " [124.24 125.4 ]\n",
      " [119.19 117.78]\n",
      " [120.02 123.25]\n",
      " [130.58 132.3 ]\n",
      " [128.53 125.72]\n",
      " [128.37 135.54]\n",
      " [118.48 119.56]\n",
      " [113.9  110.45]\n",
      " [130.05 123.74]\n",
      " [126.52 127.63]\n",
      " [124.18 124.76]\n",
      " [129.26 131.72]\n",
      " [121.7  123.69]\n",
      " [123.84 129.98]\n",
      " [128.89 128.52]\n",
      " [123.83 126.54]\n",
      " [124.74 125.8 ]\n",
      " [126.38 128.25]\n",
      " [126.08 130.96]\n",
      " [128.43 126.67]\n",
      " [130.59 131.24]\n",
      " [122.43 126.54]\n",
      " [127.12 125.5 ]\n",
      " [126.68 129.09]\n",
      " [133.63 133.38]\n",
      " [120.57 124.53]\n",
      " [129.09 128.71]\n",
      " [123.06 128.81]\n",
      " [125.33 123.76]\n",
      " [124.93 130.  ]\n",
      " [123.35 121.66]\n",
      " [124.25 124.45]\n",
      " [123.99 128.2 ]\n",
      " [118.57 120.04]\n",
      " [121.04 124.3 ]\n",
      " [121.2  121.77]\n",
      " [131.67 133.04]\n",
      " [125.3  131.45]\n",
      " [131.21 119.51]\n",
      " [132.78 135.87]\n",
      " [122.96 114.04]\n",
      " [127.19 129.38]\n",
      " [124.17 121.55]\n",
      " [109.89 111.53]\n",
      " [132.68 128.71]\n",
      " [128.58 120.77]\n",
      " [113.72 113.11]\n",
      " [128.86 132.76]\n",
      " [117.04 120.55]\n",
      " [129.53 132.09]\n",
      " [127.78 129.47]\n",
      " [122.65 122.23]\n",
      " [119.83 121.12]\n",
      " [126.45 129.26]\n",
      " [123.27 121.89]\n",
      " [128.33 127.41]\n",
      " [105.69 110.69]\n",
      " [121.4  124.69]\n",
      " [130.05 133.24]\n",
      " [132.84 131.84]\n",
      " [125.47 127.2 ]\n",
      " [113.37 112.01]\n",
      " [113.51 114.04]\n",
      " [114.44 114.08]\n",
      " [131.04 135.33]\n",
      " [129.36 130.69]\n",
      " [127.92 125.35]\n",
      " [121.82 121.94]\n",
      " [128.31 126.07]\n",
      " [129.97 125.81]\n",
      " [127.74 123.08]\n",
      " [123.41 129.03]\n",
      " [123.38 121.78]\n",
      " [125.38 126.46]\n",
      " [132.1  138.76]\n",
      " [127.31 130.19]\n",
      " [131.69 134.32]\n",
      " [127.61 117.19]\n",
      " [129.62 126.81]\n",
      " [111.33 110.22]\n",
      " [129.63 131.81]\n",
      " [131.29 135.46]\n",
      " [126.6  128.99]\n",
      " [120.85 118.44]\n",
      " [128.13 128.41]\n",
      " [127.44 130.94]\n",
      " [129.36 133.77]\n",
      " [124.09 130.22]\n",
      " [131.3  134.11]\n",
      " [128.87 121.85]\n",
      " [129.63 127.39]\n",
      " [128.89 126.35]\n",
      " [121.06 120.26]\n",
      " [125.01 120.5 ]\n",
      " [132.63 131.57]\n",
      " [123.73 124.44]\n",
      " [126.82 127.47]\n",
      " [122.47 129.86]\n",
      " [132.52 130.12]\n",
      " [121.27 119.14]\n",
      " [129.83 121.62]\n",
      " [126.79 123.07]\n",
      " [129.95 127.01]\n",
      " [124.99 126.83]\n",
      " [125.78 120.06]\n",
      " [125.36 120.78]\n",
      " [129.78 133.55]\n",
      " [123.15 125.72]\n",
      " [122.96 136.89]\n",
      " [126.31 123.74]\n",
      " [128.04 132.4 ]\n",
      " [110.83 112.04]\n",
      " [129.97 124.83]\n",
      " [127.46 126.99]\n",
      " [127.12 127.86]\n",
      " [129.39 123.88]\n",
      " [131.07 119.54]\n",
      " [117.6  118.83]\n",
      " [119.94 123.46]\n",
      " [123.39 127.59]\n",
      " [127.05 129.93]\n",
      " [124.73 126.19]\n",
      " [130.21 130.75]\n",
      " [120.02 116.41]\n",
      " [128.26 124.16]\n",
      " [129.76 132.59]\n",
      " [128.08 119.65]\n",
      " [123.45 123.31]\n",
      " [127.5  118.59]\n",
      " [126.57 128.24]\n",
      " [118.   117.5 ]\n",
      " [126.32 133.81]\n",
      " [125.07 125.52]\n",
      " [124.45 115.46]\n",
      " [117.56 120.79]\n",
      " [113.26 114.9 ]\n",
      " [107.41 111.14]\n",
      " [126.84 125.31]\n",
      " [120.92 122.53]\n",
      " [121.91 120.56]\n",
      " [129.77 129.65]\n",
      " [133.46 134.56]\n",
      " [126.31 121.59]\n",
      " [121.93 123.7 ]\n",
      " [134.58 134.5 ]\n",
      " [122.39 119.97]\n",
      " [127.18 125.05]\n",
      " [115.89 116.92]\n",
      " [129.38 130.56]\n",
      " [131.67 134.31]\n",
      " [119.06 118.13]\n",
      " [126.42 121.64]\n",
      " [127.06 129.97]\n",
      " [126.75 125.01]\n",
      " [130.04 121.58]\n",
      " [129.31 119.32]\n",
      " [126.22 124.21]\n",
      " [132.39 129.14]\n",
      " [127.91 122.61]\n",
      " [132.91 134.53]\n",
      " [113.78 116.66]\n",
      " [129.35 131.54]\n",
      " [121.23 111.82]\n",
      " [131.25 122.29]\n",
      " [127.09 129.06]\n",
      " [128.86 130.17]\n",
      " [116.49 120.48]\n",
      " [131.65 131.31]\n",
      " [124.62 122.1 ]\n",
      " [120.94 121.5 ]\n",
      " [128.29 130.05]\n",
      " [126.13 125.62]\n",
      " [131.68 132.77]\n",
      " [125.61 130.64]\n",
      " [123.16 117.48]\n",
      " [131.49 124.32]\n",
      " [125.81 125.16]\n",
      " [124.09 119.34]\n",
      " [126.35 131.18]\n",
      " [116.13 115.66]\n",
      " [126.86 125.72]\n",
      " [132.8  132.35]\n",
      " [131.24 132.13]\n",
      " [129.5  129.57]\n",
      " [130.71 131.01]\n",
      " [128.6  128.95]\n",
      " [116.61 118.71]\n",
      " [126.86 131.23]\n",
      " [130.52 131.43]\n",
      " [128.57 132.15]\n",
      " [117.82 119.21]\n",
      " [125.32 126.41]\n",
      " [112.04 112.25]\n",
      " [128.7  130.11]\n",
      " [127.31 122.91]\n",
      " [114.75 113.33]\n",
      " [125.32 123.89]\n",
      " [123.87 119.15]\n",
      " [122.25 130.61]\n",
      " [131.04 124.69]\n",
      " [130.81 132.51]\n",
      " [119.31 117.6 ]\n",
      " [112.43 108.27]\n",
      " [127.12 126.27]\n",
      " [111.49 112.7 ]\n",
      " [122.43 120.58]\n",
      " [131.   133.26]\n",
      " [126.51 127.31]\n",
      " [122.11 124.1 ]\n",
      " [123.87 129.3 ]\n",
      " [110.3  107.28]\n",
      " [120.95 125.54]\n",
      " [125.33 124.36]\n",
      " [126.73 123.12]\n",
      " [130.06 133.31]\n",
      " [127.91 122.22]\n",
      " [130.83 131.06]\n",
      " [131.79 135.92]\n",
      " [124.97 119.88]\n",
      " [123.59 119.64]\n",
      " [123.02 127.85]\n",
      " [127.   128.82]\n",
      " [124.84 123.74]\n",
      " [110.34 117.62]\n",
      " [131.33 128.4 ]\n",
      " [129.91 126.76]\n",
      " [130.57 126.16]\n",
      " [103.72 110.36]\n",
      " [123.95 120.14]\n",
      " [129.29 130.72]\n",
      " [119.77 122.17]\n",
      " [125.01 128.24]\n",
      " [129.59 131.45]\n",
      " [127.54 129.68]\n",
      " [124.35 124.36]\n",
      " [129.97 129.95]\n",
      " [129.68 131.26]\n",
      " [128.62 126.75]\n",
      " [130.6  130.03]\n",
      " [126.49 130.67]\n",
      " [131.76 124.16]\n",
      " [110.62 110.89]\n",
      " [129.85 130.2 ]\n",
      " [121.92 118.29]\n",
      " [132.09 128.4 ]\n",
      " [125.1  119.29]\n",
      " [129.56 127.81]\n",
      " [125.63 122.21]\n",
      " [109.01 110.78]\n",
      " [121.21 117.13]\n",
      " [101.3  112.77]\n",
      " [113.57 112.67]\n",
      " [125.94 122.97]\n",
      " [126.64 126.3 ]\n",
      " [105.68 107.15]\n",
      " [127.26 127.73]\n",
      " [125.46 122.44]\n",
      " [124.5  124.25]\n",
      " [127.62 125.73]\n",
      " [132.97 135.48]\n",
      " [131.38 135.43]\n",
      " [118.58 115.86]\n",
      " [130.21 126.78]\n",
      " [123.13 126.85]\n",
      " [125.3  130.05]\n",
      " [126.4  125.8 ]\n",
      " [120.73 118.9 ]\n",
      " [130.74 133.25]\n",
      " [128.66 124.  ]\n",
      " [126.78 121.79]\n",
      " [125.62 128.34]\n",
      " [120.65 124.72]\n",
      " [132.57 132.83]\n",
      " [127.97 117.39]\n",
      " [111.28 108.03]\n",
      " [121.61 121.53]\n",
      " [122.95 114.71]\n",
      " [122.27 121.22]\n",
      " [128.98 131.71]\n",
      " [127.9  127.12]\n",
      " [121.16 124.99]\n",
      " [125.97 122.61]\n",
      " [124.16 123.54]\n",
      " [115.4  112.24]\n",
      " [132.12 136.28]\n",
      " [120.74 121.76]]\n"
     ]
    }
   ],
   "source": [
    "y_pred = regressor.predict(poly_reg.transform(X_test))\n",
    "np.set_printoptions(precision=2)\n",
    "print(np.concatenate((y_pred.reshape(len(y_pred),1), Y_test.reshape(len(Y_test),1)),1))"
   ]
  },
  {
   "cell_type": "markdown",
   "id": "c4fc2150",
   "metadata": {},
   "source": [
    "## Final equation"
   ]
  },
  {
   "cell_type": "code",
   "execution_count": 111,
   "id": "5e52ee28",
   "metadata": {
    "scrolled": true
   },
   "outputs": [
    {
     "name": "stdout",
     "output_type": "stream",
     "text": [
      "[ 1.22e-01  4.64e-03  4.94e-01  1.79e+01 -1.36e-01  6.73e+01 -2.39e-07\n",
      "  1.10e-04 -3.31e-02 -8.32e-05 -2.61e-01 -9.94e-02 -8.26e+00 -2.92e-02\n",
      " -1.98e+01 -2.63e+02  1.48e+00 -5.03e+00  8.44e-03  2.55e+01  2.46e+01\n",
      "  8.70e-12  2.70e-09  7.97e-07 -2.00e-09  9.45e-06  7.93e-06 -3.02e-04\n",
      " -4.42e-06 -2.00e-03  5.91e-02 -2.51e-05  2.20e-01  1.19e-06  9.18e-04\n",
      "  2.54e+00  6.24e-03  1.02e+00 -1.30e-03 -2.22e-02  1.87e+01  5.07e-02\n",
      " -2.66e+02  5.66e-04 -7.82e-01 -1.53e+02  3.61e+02 -1.28e-01 -2.72e+01\n",
      " -1.34e-02 -6.69e+01 -2.04e+00 -9.82e-05 -1.00e-01  1.42e+02 -9.44e-01]\n",
      "125.3284960008236\n"
     ]
    }
   ],
   "source": [
    "print(regressor.coef_)\n",
    "print(regressor.intercept_)"
   ]
  },
  {
   "cell_type": "markdown",
   "id": "03c2d3b6",
   "metadata": {},
   "source": [
    "The values below were found with Multilinear Regression, and its r-score was very close to the the Polynomial Model's r-score:\n",
    "\n",
    "Scaled sound pressure level = frequency (hertz) - 0.00128 x angle of attack (degrees) - 0.426 x\n",
    "Chord length (meters) - 36.2 x Free-stream velocity + 0.1 x Suction side displacement thickness (meters) - 151 + 133.06056810486479 "
   ]
  },
  {
   "cell_type": "markdown",
   "id": "cce216bb",
   "metadata": {},
   "source": [
    "## Evalute the model"
   ]
  },
  {
   "cell_type": "code",
   "execution_count": 112,
   "id": "5b48bff8",
   "metadata": {},
   "outputs": [
    {
     "data": {
      "text/plain": [
       "0.6315756420233873"
      ]
     },
     "execution_count": 112,
     "metadata": {},
     "output_type": "execute_result"
    }
   ],
   "source": [
    "from sklearn.metrics import r2_score\n",
    "r2_score(Y_test, y_pred)"
   ]
  }
 ],
 "metadata": {
  "kernelspec": {
   "display_name": "Python 3 (ipykernel)",
   "language": "python",
   "name": "python3"
  },
  "language_info": {
   "codemirror_mode": {
    "name": "ipython",
    "version": 3
   },
   "file_extension": ".py",
   "mimetype": "text/x-python",
   "name": "python",
   "nbconvert_exporter": "python",
   "pygments_lexer": "ipython3",
   "version": "3.10.5"
  }
 },
 "nbformat": 4,
 "nbformat_minor": 5
}
