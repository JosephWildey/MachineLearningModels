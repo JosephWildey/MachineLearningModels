{
 "cells": [
  {
   "cell_type": "markdown",
   "id": "a4b42554",
   "metadata": {},
   "source": [
    "# K-Nearest Neighbors\n",
    "\n",
    "K-Nearest Neighbors is an algorithm that uses euclidean distance to determine the distance between two points. Clusters are determined by their distance to one another, or once clusters are defined which one has the most samples within a cluster closest to any added point.\n",
    "\n",
    "Euclidean distance is mathematically defined as below:\n",
    "\n",
    "distance between two points = $\\sqrt{(x_2 - x_1)^2 + (y_2 - y_1)^2}$\n",
    "\n",
    "1. Do the math in the parentheses which will give you the difference in distance among the x and y axes. The difference will be denoted with delta: $\\Delta$\n",
    " - $P_\\Delta = \\sqrt{(x_\\Delta)^2 + (y_\\Delta)^2}$\n",
    "2. Then square those differences.\n",
    " - $P_\\Delta = \\sqrt{x_\\Delta^2 + y_\\Delta^2}$\n",
    "3. Add the resulting squares.\n",
    " - $P_\\Delta = \\sqrt{x_\\Delta^2 + y_\\Delta^2}$ = $\\sqrt{z}$\n",
    "4. Take the square root of the final sum, that is your euclidean distance between two points.\n",
    " - $P_\\Delta = \\sqrt{z}$\n",
    " \n",
    "It is tempting to take the easy route and cancel out the exponents with the square root, but that does not work for this equation."
   ]
  },
  {
   "cell_type": "markdown",
   "id": "80fbc0b1",
   "metadata": {},
   "source": [
    "## Problem Statement:\n",
    "\n",
    "Determine whether or not someone likely bought a car based on their age and income."
   ]
  },
  {
   "cell_type": "markdown",
   "id": "2e2ed9c0",
   "metadata": {},
   "source": [
    "## Index\n",
    "1. [Data Preprocessing](http://localhost:8888/notebooks/MachineLearningModels/K-Nearest%20Neighbors.ipynb#Data-Preprocessing)\n",
    "2. [KMeans Model Training](http://localhost:8888/notebooks/MachineLearningModels/K-Nearest%20Neighbors.ipynb#Train-the-KMeans-Cluster-model)\n",
    "3. [Predictions](http://localhost:8888/notebooks/MachineLearningModels/K-Nearest%20Neighbors.ipynb#Predictions-and-final-results)\n",
    "4. [Conclusion](http://localhost:8888/notebooks/MachineLearningModels/Classification/K-Nearest%20Neighbors.ipynb#Conclusion)"
   ]
  },
  {
   "cell_type": "markdown",
   "id": "3e770f23",
   "metadata": {},
   "source": [
    "## Data Preprocessing"
   ]
  },
  {
   "cell_type": "markdown",
   "id": "86b06be4",
   "metadata": {},
   "source": [
    "### Importing libraries"
   ]
  },
  {
   "cell_type": "code",
   "execution_count": 3,
   "id": "f89f3ad5",
   "metadata": {},
   "outputs": [],
   "source": [
    "import numpy as np\n",
    "import matplotlib.pyplot as plt\n",
    "import pandas as pd"
   ]
  },
  {
   "cell_type": "markdown",
   "id": "c518d0b0",
   "metadata": {},
   "source": [
    "### Import the dataset"
   ]
  },
  {
   "cell_type": "code",
   "execution_count": 11,
   "id": "b8aa0c5b",
   "metadata": {},
   "outputs": [],
   "source": [
    "dataset = pd.read_csv('data/Social_Network_Ads.csv')\n",
    "\n",
    "x = dataset.iloc[:, :-1].values\n",
    "y = dataset.iloc[:, -1].values"
   ]
  },
  {
   "cell_type": "markdown",
   "id": "378f32a2",
   "metadata": {},
   "source": [
    "### Split the dataset"
   ]
  },
  {
   "cell_type": "code",
   "execution_count": 5,
   "id": "d32c1208",
   "metadata": {},
   "outputs": [],
   "source": [
    "from sklearn.model_selection import train_test_split\n",
    "x_train, x_test, y_train, y_test = train_test_split(x, y, test_size = 0.2, random_state = 0)"
   ]
  },
  {
   "cell_type": "markdown",
   "id": "ef9878da",
   "metadata": {},
   "source": [
    "### Feature Scaling\n",
    "\n",
    "Not using a trig function this time, but smaller numbers improve the distance calculation."
   ]
  },
  {
   "cell_type": "code",
   "execution_count": 6,
   "id": "3f007009",
   "metadata": {},
   "outputs": [],
   "source": [
    "from sklearn.preprocessing import StandardScaler\n",
    "sc = StandardScaler()\n",
    "x_train = sc.fit_transform(x_train)\n",
    "x_test = sc.fit_transform(x_test)"
   ]
  },
  {
   "cell_type": "markdown",
   "id": "aabfb3f7",
   "metadata": {},
   "source": [
    "## Train the KMeans Cluster model\n",
    "\n",
    "This relies on the distance between neighbors to form its clusters. In particular, it uses the distance between the five nearest points across both clusters to make its decision."
   ]
  },
  {
   "cell_type": "code",
   "execution_count": 16,
   "id": "6b9284ff",
   "metadata": {},
   "outputs": [
    {
     "data": {
      "text/plain": [
       "KNeighborsClassifier()"
      ]
     },
     "execution_count": 16,
     "metadata": {},
     "output_type": "execute_result"
    }
   ],
   "source": [
    "from sklearn.neighbors import KNeighborsClassifier\n",
    "classifier = KNeighborsClassifier(n_neighbors = 5, metric = 'minkowski', p = 2)\n",
    "classifier.fit(x_train, y_train)"
   ]
  },
  {
   "cell_type": "markdown",
   "id": "65c983cb",
   "metadata": {},
   "source": [
    "## Predictions and final results"
   ]
  },
  {
   "cell_type": "markdown",
   "id": "06c20f31",
   "metadata": {},
   "source": [
    "### Get the group of our prediction"
   ]
  },
  {
   "cell_type": "code",
   "execution_count": 17,
   "id": "6b36bfff",
   "metadata": {},
   "outputs": [
    {
     "name": "stdout",
     "output_type": "stream",
     "text": [
      "[0]\n"
     ]
    }
   ],
   "source": [
    "print(classifier.predict(sc.transform([[30,87000]])))"
   ]
  },
  {
   "cell_type": "markdown",
   "id": "46c9c938",
   "metadata": {},
   "source": [
    "### Compare our prediction clusters with their real clusters"
   ]
  },
  {
   "cell_type": "code",
   "execution_count": 18,
   "id": "cc4f01fd",
   "metadata": {
    "scrolled": true
   },
   "outputs": [
    {
     "name": "stdout",
     "output_type": "stream",
     "text": [
      "[[0 0]\n",
      " [0 0]\n",
      " [0 0]\n",
      " [0 0]\n",
      " [0 0]\n",
      " [0 0]\n",
      " [0 0]\n",
      " [1 1]\n",
      " [0 0]\n",
      " [1 0]\n",
      " [0 0]\n",
      " [0 0]\n",
      " [0 0]\n",
      " [0 0]\n",
      " [0 0]\n",
      " [1 0]\n",
      " [0 0]\n",
      " [0 0]\n",
      " [1 1]\n",
      " [0 0]\n",
      " [0 0]\n",
      " [1 1]\n",
      " [0 0]\n",
      " [1 1]\n",
      " [0 0]\n",
      " [1 1]\n",
      " [0 0]\n",
      " [0 0]\n",
      " [0 0]\n",
      " [1 0]\n",
      " [0 0]\n",
      " [0 1]\n",
      " [1 1]\n",
      " [0 0]\n",
      " [0 0]\n",
      " [0 0]\n",
      " [0 0]\n",
      " [0 0]\n",
      " [0 0]\n",
      " [1 1]\n",
      " [0 0]\n",
      " [0 0]\n",
      " [0 0]\n",
      " [0 0]\n",
      " [1 1]\n",
      " [0 0]\n",
      " [0 0]\n",
      " [1 1]\n",
      " [0 0]\n",
      " [1 1]\n",
      " [1 1]\n",
      " [0 0]\n",
      " [0 0]\n",
      " [1 0]\n",
      " [1 1]\n",
      " [1 1]\n",
      " [0 0]\n",
      " [0 0]\n",
      " [1 1]\n",
      " [0 0]\n",
      " [0 0]\n",
      " [1 1]\n",
      " [0 0]\n",
      " [1 1]\n",
      " [0 0]\n",
      " [1 1]\n",
      " [0 0]\n",
      " [0 0]\n",
      " [0 0]\n",
      " [0 0]\n",
      " [1 1]\n",
      " [0 0]\n",
      " [0 0]\n",
      " [1 1]\n",
      " [0 0]\n",
      " [0 0]\n",
      " [0 0]\n",
      " [0 0]\n",
      " [1 1]\n",
      " [1 1]]\n"
     ]
    }
   ],
   "source": [
    "y_pred = classifier.predict(x_test)\n",
    "print(np.concatenate((y_pred.reshape(len(y_pred),1), y_test.reshape(len(y_test),1)),1))"
   ]
  },
  {
   "cell_type": "markdown",
   "id": "aea2212e",
   "metadata": {},
   "source": [
    "### Making the Confusion Matrix\n",
    "\n",
    "The confusion matrix gives us a picture of the accuracy of the model by showing the values of: true positives, false positives, false negatives, and true negatives in a 2x2 matrix."
   ]
  },
  {
   "cell_type": "code",
   "execution_count": 19,
   "id": "1df07a1a",
   "metadata": {},
   "outputs": [
    {
     "name": "stdout",
     "output_type": "stream",
     "text": [
      "[[54  4]\n",
      " [ 1 21]]\n"
     ]
    },
    {
     "data": {
      "text/plain": [
       "0.9375"
      ]
     },
     "execution_count": 19,
     "metadata": {},
     "output_type": "execute_result"
    }
   ],
   "source": [
    "from sklearn.metrics import confusion_matrix, accuracy_score\n",
    "cm = confusion_matrix(y_test, y_pred)\n",
    "print(cm)\n",
    "accuracy_score(y_test, y_pred)"
   ]
  },
  {
   "cell_type": "markdown",
   "id": "b4b678b8",
   "metadata": {},
   "source": [
    "## Conclusion\n",
    "\n",
    "Upon further review we could classify the people who are and are not purchasing cars based on income and age, and adjust our marketing strategy accordingly. "
   ]
  }
 ],
 "metadata": {
  "kernelspec": {
   "display_name": "Python 3 (ipykernel)",
   "language": "python",
   "name": "python3"
  },
  "language_info": {
   "codemirror_mode": {
    "name": "ipython",
    "version": 3
   },
   "file_extension": ".py",
   "mimetype": "text/x-python",
   "name": "python",
   "nbconvert_exporter": "python",
   "pygments_lexer": "ipython3",
   "version": "3.9.12"
  }
 },
 "nbformat": 4,
 "nbformat_minor": 5
}
