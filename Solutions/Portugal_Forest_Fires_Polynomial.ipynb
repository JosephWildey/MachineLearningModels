{
 "cells": [
  {
   "cell_type": "markdown",
   "id": "5cdef4b0",
   "metadata": {},
   "source": [
    "# Forest Fires Portugal 6-degree Polynomial Regression"
   ]
  },
  {
   "cell_type": "markdown",
   "id": "8294a3d3",
   "metadata": {},
   "source": [
    "## Problem Statement\n",
    "\n",
    "Paulo Cortez and Anibal Morais (2007) wanted to use \"automatic tools based on local sensors\" at local (to the area) meterological stations. Since meteorological conditions were determined to correlate to the likelihood of a fire, they explored a \"Data Mining\" solution to predict the fires (Cortez & Morais, 2007).\n",
    "\n",
    "My model differs from theirs because they use Support Vectors, whereas I use a Polynomial Regression model. I effectively imploy an n-th degree Polynomial Regression model to give all of the important factors weight and full consideration. It appears to be very effective."
   ]
  },
  {
   "cell_type": "markdown",
   "id": "f720b1fb",
   "metadata": {},
   "source": [
    "## Index\n",
    "\n",
    "1. [Data Preprocessing](http://localhost:8888/notebooks/MachineLearningModels/Portugal%20Forest%20Fires%20Polynomial.ipynb#Data-Preprocessing)\n",
    "2. [Train Model](http://localhost:8888/notebooks/MachineLearningModels/Portugal%20Forest%20Fires%20Polynomial.ipynb#Train-Model)\n",
    "3. [Predictions and Final Equation](http://localhost:8888/notebooks/MachineLearningModels/Portugal%20Forest%20Fires%20Polynomial.ipynb#Predictions-and-final-linear-equation)\n",
    "4. [Conclusion](http://localhost:8888/notebooks/MachineLearningModels/Portugal%20Forest%20Fires%20Polynomial.ipynb#Conclusion)\n",
    "5. [Citation](http://localhost:8888/notebooks/MachineLearningModels/Portugal%20Forest%20Fires%20Polynomial.ipynb#References)"
   ]
  },
  {
   "cell_type": "markdown",
   "id": "f83a3384",
   "metadata": {},
   "source": [
    "## Data Preprocessing"
   ]
  },
  {
   "cell_type": "markdown",
   "id": "c265500f",
   "metadata": {},
   "source": [
    "### Import libraries\n",
    "\n",
    "The three typical libaries are used: Numpy, Matplotlib.pyplot, and Pandas\n",
    "\n",
    "As is tradition Scikit Learn will come in later."
   ]
  },
  {
   "cell_type": "code",
   "execution_count": 1,
   "id": "7fa5e587",
   "metadata": {},
   "outputs": [],
   "source": [
    "import numpy as np\n",
    "import matplotlib.pyplot as plt\n",
    "import pandas as pd"
   ]
  },
  {
   "cell_type": "markdown",
   "id": "e8fb9f6d",
   "metadata": {},
   "source": [
    "### Import dataset\n",
    "\n",
    "This dataset required an extra step that is not normal because of the difference of scales between the features (inputs) and output. Meteorological scales typically provide double digit values, but since the output is the amount of land scorched in hectacres the ouput tends to skew toward 0. As a result, without the log transform on inputs the correlation will be significantly lower than it should be."
   ]
  },
  {
   "cell_type": "code",
   "execution_count": 2,
   "id": "81792bf6",
   "metadata": {},
   "outputs": [],
   "source": [
    "dataset = pd.read_csv(\"/home/joe/Documents/ML-Resources/forestfires.csv\")\n",
    "x = dataset.iloc[:, :-1].values\n",
    "y = dataset.iloc[:, -1].values\n",
    "\n",
    "x = x.astype(float)\n",
    "\n",
    "x = np.log1p(x)\n",
    "\n",
    "y = y.reshape(len(y), 1)"
   ]
  },
  {
   "cell_type": "markdown",
   "id": "bbfd671c",
   "metadata": {},
   "source": [
    "### Taking care of missing data\n",
    "\n",
    "I used the 'mean' of a column to fill any possibly missing data."
   ]
  },
  {
   "cell_type": "code",
   "execution_count": 3,
   "id": "bcc0c57d",
   "metadata": {},
   "outputs": [],
   "source": [
    "from sklearn.impute import SimpleImputer\n",
    "imputer = SimpleImputer(missing_values=np.nan, strategy='mean')\n",
    "imputer.fit(x[:, 1:3])\n",
    "x[:, 1:3] = imputer.transform(x[:, 1:3])"
   ]
  },
  {
   "cell_type": "markdown",
   "id": "17f90a9f",
   "metadata": {},
   "source": [
    "## Feature scaling\n",
    "\n",
    "This is normally not required for regression, and polynomial regression at that. However, standardization provided amazing results. Standardization is the process of making each value fall into a range of [+3, -3]. In other words, every value will be between 3 and negative 3."
   ]
  },
  {
   "cell_type": "code",
   "execution_count": 4,
   "id": "ced01156",
   "metadata": {},
   "outputs": [],
   "source": [
    "from sklearn.preprocessing import StandardScaler\n",
    "sc_x = StandardScaler()\n",
    "sc_y = StandardScaler()\n",
    "x = sc_x.fit_transform(x)\n",
    "y = sc_y.fit_transform(y)"
   ]
  },
  {
   "cell_type": "markdown",
   "id": "2bb67a13",
   "metadata": {},
   "source": [
    "### Split data\n",
    "\n",
    "There is enough data here to split the dataset into a training and test set. I stick to the typocal 80% training size."
   ]
  },
  {
   "cell_type": "code",
   "execution_count": 5,
   "id": "e9ffd43b",
   "metadata": {},
   "outputs": [],
   "source": [
    "from sklearn.model_selection import train_test_split\n",
    "X_train, X_test, Y_train, Y_test = train_test_split(x, y, test_size = 0.2, random_state = 1)"
   ]
  },
  {
   "cell_type": "markdown",
   "id": "34e14317",
   "metadata": {},
   "source": [
    "## Train Model"
   ]
  },
  {
   "cell_type": "markdown",
   "id": "f1a17004",
   "metadata": {},
   "source": [
    "### Train Linear Regression\n",
    "\n",
    "Just a line of best fit model, it goes along with the Polynomial Regression."
   ]
  },
  {
   "cell_type": "code",
   "execution_count": 6,
   "id": "df08d31e",
   "metadata": {},
   "outputs": [
    {
     "data": {
      "text/html": [
       "<style>#sk-container-id-1 {color: black;background-color: white;}#sk-container-id-1 pre{padding: 0;}#sk-container-id-1 div.sk-toggleable {background-color: white;}#sk-container-id-1 label.sk-toggleable__label {cursor: pointer;display: block;width: 100%;margin-bottom: 0;padding: 0.3em;box-sizing: border-box;text-align: center;}#sk-container-id-1 label.sk-toggleable__label-arrow:before {content: \"▸\";float: left;margin-right: 0.25em;color: #696969;}#sk-container-id-1 label.sk-toggleable__label-arrow:hover:before {color: black;}#sk-container-id-1 div.sk-estimator:hover label.sk-toggleable__label-arrow:before {color: black;}#sk-container-id-1 div.sk-toggleable__content {max-height: 0;max-width: 0;overflow: hidden;text-align: left;background-color: #f0f8ff;}#sk-container-id-1 div.sk-toggleable__content pre {margin: 0.2em;color: black;border-radius: 0.25em;background-color: #f0f8ff;}#sk-container-id-1 input.sk-toggleable__control:checked~div.sk-toggleable__content {max-height: 200px;max-width: 100%;overflow: auto;}#sk-container-id-1 input.sk-toggleable__control:checked~label.sk-toggleable__label-arrow:before {content: \"▾\";}#sk-container-id-1 div.sk-estimator input.sk-toggleable__control:checked~label.sk-toggleable__label {background-color: #d4ebff;}#sk-container-id-1 div.sk-label input.sk-toggleable__control:checked~label.sk-toggleable__label {background-color: #d4ebff;}#sk-container-id-1 input.sk-hidden--visually {border: 0;clip: rect(1px 1px 1px 1px);clip: rect(1px, 1px, 1px, 1px);height: 1px;margin: -1px;overflow: hidden;padding: 0;position: absolute;width: 1px;}#sk-container-id-1 div.sk-estimator {font-family: monospace;background-color: #f0f8ff;border: 1px dotted black;border-radius: 0.25em;box-sizing: border-box;margin-bottom: 0.5em;}#sk-container-id-1 div.sk-estimator:hover {background-color: #d4ebff;}#sk-container-id-1 div.sk-parallel-item::after {content: \"\";width: 100%;border-bottom: 1px solid gray;flex-grow: 1;}#sk-container-id-1 div.sk-label:hover label.sk-toggleable__label {background-color: #d4ebff;}#sk-container-id-1 div.sk-serial::before {content: \"\";position: absolute;border-left: 1px solid gray;box-sizing: border-box;top: 0;bottom: 0;left: 50%;z-index: 0;}#sk-container-id-1 div.sk-serial {display: flex;flex-direction: column;align-items: center;background-color: white;padding-right: 0.2em;padding-left: 0.2em;position: relative;}#sk-container-id-1 div.sk-item {position: relative;z-index: 1;}#sk-container-id-1 div.sk-parallel {display: flex;align-items: stretch;justify-content: center;background-color: white;position: relative;}#sk-container-id-1 div.sk-item::before, #sk-container-id-1 div.sk-parallel-item::before {content: \"\";position: absolute;border-left: 1px solid gray;box-sizing: border-box;top: 0;bottom: 0;left: 50%;z-index: -1;}#sk-container-id-1 div.sk-parallel-item {display: flex;flex-direction: column;z-index: 1;position: relative;background-color: white;}#sk-container-id-1 div.sk-parallel-item:first-child::after {align-self: flex-end;width: 50%;}#sk-container-id-1 div.sk-parallel-item:last-child::after {align-self: flex-start;width: 50%;}#sk-container-id-1 div.sk-parallel-item:only-child::after {width: 0;}#sk-container-id-1 div.sk-dashed-wrapped {border: 1px dashed gray;margin: 0 0.4em 0.5em 0.4em;box-sizing: border-box;padding-bottom: 0.4em;background-color: white;}#sk-container-id-1 div.sk-label label {font-family: monospace;font-weight: bold;display: inline-block;line-height: 1.2em;}#sk-container-id-1 div.sk-label-container {text-align: center;}#sk-container-id-1 div.sk-container {/* jupyter's `normalize.less` sets `[hidden] { display: none; }` but bootstrap.min.css set `[hidden] { display: none !important; }` so we also need the `!important` here to be able to override the default hidden behavior on the sphinx rendered scikit-learn.org. See: https://github.com/scikit-learn/scikit-learn/issues/21755 */display: inline-block !important;position: relative;}#sk-container-id-1 div.sk-text-repr-fallback {display: none;}</style><div id=\"sk-container-id-1\" class=\"sk-top-container\"><div class=\"sk-text-repr-fallback\"><pre>LinearRegression()</pre><b>In a Jupyter environment, please rerun this cell to show the HTML representation or trust the notebook. <br />On GitHub, the HTML representation is unable to render, please try loading this page with nbviewer.org.</b></div><div class=\"sk-container\" hidden><div class=\"sk-item\"><div class=\"sk-estimator sk-toggleable\"><input class=\"sk-toggleable__control sk-hidden--visually\" id=\"sk-estimator-id-1\" type=\"checkbox\" checked><label for=\"sk-estimator-id-1\" class=\"sk-toggleable__label sk-toggleable__label-arrow\">LinearRegression</label><div class=\"sk-toggleable__content\"><pre>LinearRegression()</pre></div></div></div></div></div>"
      ],
      "text/plain": [
       "LinearRegression()"
      ]
     },
     "execution_count": 6,
     "metadata": {},
     "output_type": "execute_result"
    }
   ],
   "source": [
    "from sklearn.linear_model import LinearRegression\n",
    "lin_reg = LinearRegression()\n",
    "lin_reg.fit(X_train,Y_train)"
   ]
  },
  {
   "cell_type": "markdown",
   "id": "5c4ee498",
   "metadata": {},
   "source": [
    "### Train Polynomial\n",
    "\n",
    "This is a 6-degree polynomial because when there's only a few features n-degree polynomials tend to be super accurate. "
   ]
  },
  {
   "cell_type": "code",
   "execution_count": 7,
   "id": "d35ab6a3",
   "metadata": {},
   "outputs": [
    {
     "data": {
      "text/html": [
       "<style>#sk-container-id-2 {color: black;background-color: white;}#sk-container-id-2 pre{padding: 0;}#sk-container-id-2 div.sk-toggleable {background-color: white;}#sk-container-id-2 label.sk-toggleable__label {cursor: pointer;display: block;width: 100%;margin-bottom: 0;padding: 0.3em;box-sizing: border-box;text-align: center;}#sk-container-id-2 label.sk-toggleable__label-arrow:before {content: \"▸\";float: left;margin-right: 0.25em;color: #696969;}#sk-container-id-2 label.sk-toggleable__label-arrow:hover:before {color: black;}#sk-container-id-2 div.sk-estimator:hover label.sk-toggleable__label-arrow:before {color: black;}#sk-container-id-2 div.sk-toggleable__content {max-height: 0;max-width: 0;overflow: hidden;text-align: left;background-color: #f0f8ff;}#sk-container-id-2 div.sk-toggleable__content pre {margin: 0.2em;color: black;border-radius: 0.25em;background-color: #f0f8ff;}#sk-container-id-2 input.sk-toggleable__control:checked~div.sk-toggleable__content {max-height: 200px;max-width: 100%;overflow: auto;}#sk-container-id-2 input.sk-toggleable__control:checked~label.sk-toggleable__label-arrow:before {content: \"▾\";}#sk-container-id-2 div.sk-estimator input.sk-toggleable__control:checked~label.sk-toggleable__label {background-color: #d4ebff;}#sk-container-id-2 div.sk-label input.sk-toggleable__control:checked~label.sk-toggleable__label {background-color: #d4ebff;}#sk-container-id-2 input.sk-hidden--visually {border: 0;clip: rect(1px 1px 1px 1px);clip: rect(1px, 1px, 1px, 1px);height: 1px;margin: -1px;overflow: hidden;padding: 0;position: absolute;width: 1px;}#sk-container-id-2 div.sk-estimator {font-family: monospace;background-color: #f0f8ff;border: 1px dotted black;border-radius: 0.25em;box-sizing: border-box;margin-bottom: 0.5em;}#sk-container-id-2 div.sk-estimator:hover {background-color: #d4ebff;}#sk-container-id-2 div.sk-parallel-item::after {content: \"\";width: 100%;border-bottom: 1px solid gray;flex-grow: 1;}#sk-container-id-2 div.sk-label:hover label.sk-toggleable__label {background-color: #d4ebff;}#sk-container-id-2 div.sk-serial::before {content: \"\";position: absolute;border-left: 1px solid gray;box-sizing: border-box;top: 0;bottom: 0;left: 50%;z-index: 0;}#sk-container-id-2 div.sk-serial {display: flex;flex-direction: column;align-items: center;background-color: white;padding-right: 0.2em;padding-left: 0.2em;position: relative;}#sk-container-id-2 div.sk-item {position: relative;z-index: 1;}#sk-container-id-2 div.sk-parallel {display: flex;align-items: stretch;justify-content: center;background-color: white;position: relative;}#sk-container-id-2 div.sk-item::before, #sk-container-id-2 div.sk-parallel-item::before {content: \"\";position: absolute;border-left: 1px solid gray;box-sizing: border-box;top: 0;bottom: 0;left: 50%;z-index: -1;}#sk-container-id-2 div.sk-parallel-item {display: flex;flex-direction: column;z-index: 1;position: relative;background-color: white;}#sk-container-id-2 div.sk-parallel-item:first-child::after {align-self: flex-end;width: 50%;}#sk-container-id-2 div.sk-parallel-item:last-child::after {align-self: flex-start;width: 50%;}#sk-container-id-2 div.sk-parallel-item:only-child::after {width: 0;}#sk-container-id-2 div.sk-dashed-wrapped {border: 1px dashed gray;margin: 0 0.4em 0.5em 0.4em;box-sizing: border-box;padding-bottom: 0.4em;background-color: white;}#sk-container-id-2 div.sk-label label {font-family: monospace;font-weight: bold;display: inline-block;line-height: 1.2em;}#sk-container-id-2 div.sk-label-container {text-align: center;}#sk-container-id-2 div.sk-container {/* jupyter's `normalize.less` sets `[hidden] { display: none; }` but bootstrap.min.css set `[hidden] { display: none !important; }` so we also need the `!important` here to be able to override the default hidden behavior on the sphinx rendered scikit-learn.org. See: https://github.com/scikit-learn/scikit-learn/issues/21755 */display: inline-block !important;position: relative;}#sk-container-id-2 div.sk-text-repr-fallback {display: none;}</style><div id=\"sk-container-id-2\" class=\"sk-top-container\"><div class=\"sk-text-repr-fallback\"><pre>LinearRegression()</pre><b>In a Jupyter environment, please rerun this cell to show the HTML representation or trust the notebook. <br />On GitHub, the HTML representation is unable to render, please try loading this page with nbviewer.org.</b></div><div class=\"sk-container\" hidden><div class=\"sk-item\"><div class=\"sk-estimator sk-toggleable\"><input class=\"sk-toggleable__control sk-hidden--visually\" id=\"sk-estimator-id-2\" type=\"checkbox\" checked><label for=\"sk-estimator-id-2\" class=\"sk-toggleable__label sk-toggleable__label-arrow\">LinearRegression</label><div class=\"sk-toggleable__content\"><pre>LinearRegression()</pre></div></div></div></div></div>"
      ],
      "text/plain": [
       "LinearRegression()"
      ]
     },
     "execution_count": 7,
     "metadata": {},
     "output_type": "execute_result"
    }
   ],
   "source": [
    "from sklearn.preprocessing import PolynomialFeatures\n",
    "poly_reg = PolynomialFeatures(degree = 6)\n",
    "x_poly = poly_reg.fit_transform(x)\n",
    "lin_reg_2 = LinearRegression()\n",
    "lin_reg_2.fit(x_poly, y)"
   ]
  },
  {
   "cell_type": "markdown",
   "id": "49e63100",
   "metadata": {},
   "source": [
    "## Predictions and final linear equation"
   ]
  },
  {
   "cell_type": "markdown",
   "id": "f8d8fffb",
   "metadata": {},
   "source": [
    "### Predictions"
   ]
  },
  {
   "cell_type": "code",
   "execution_count": 8,
   "id": "f7133bed",
   "metadata": {
    "scrolled": false
   },
   "outputs": [
    {
     "name": "stdout",
     "output_type": "stream",
     "text": [
      "[[-0.19 -0.19]\n",
      " [-0.2  -0.2 ]\n",
      " [-0.2  -0.2 ]\n",
      " [ 0.36  0.36]\n",
      " [ 0.39  0.39]\n",
      " [-0.2  -0.2 ]\n",
      " [-0.19 -0.18]\n",
      " [-0.2  -0.2 ]\n",
      " [-0.2  -0.2 ]\n",
      " [-0.14 -0.14]\n",
      " [-0.2  -0.2 ]\n",
      " [-0.2  -0.2 ]\n",
      " [-0.18 -0.18]\n",
      " [-0.2  -0.2 ]\n",
      " [-0.2  -0.2 ]\n",
      " [-0.2  -0.2 ]\n",
      " [-0.2  -0.2 ]\n",
      " [-0.09 -0.09]\n",
      " [-0.1  -0.1 ]\n",
      " [-0.15 -0.15]\n",
      " [-0.12 -0.03]\n",
      " [-0.2  -0.2 ]\n",
      " [-0.17 -0.14]\n",
      " [-0.15 -0.15]\n",
      " [-0.2  -0.2 ]\n",
      " [-0.12 -0.2 ]\n",
      " [-0.2  -0.2 ]\n",
      " [-0.08 -0.08]\n",
      " [-0.2  -0.2 ]\n",
      " [ 0.38  0.38]\n",
      " [-0.12 -0.05]\n",
      " [-0.2  -0.2 ]\n",
      " [-0.2  -0.2 ]\n",
      " [-0.09 -0.09]\n",
      " [ 1.42  1.42]\n",
      " [-0.09 -0.09]\n",
      " [-0.18 -0.18]\n",
      " [-0.17 -0.17]\n",
      " [-0.05 -0.07]\n",
      " [-0.2  -0.2 ]\n",
      " [ 0.18  0.18]\n",
      " [-0.2  -0.2 ]\n",
      " [ 0.56  0.56]\n",
      " [-0.16 -0.16]\n",
      " [-0.18 -0.15]\n",
      " [-0.2  -0.2 ]\n",
      " [ 0.53  0.53]\n",
      " [-0.17 -0.17]\n",
      " [ 0.24  0.24]\n",
      " [-0.11 -0.11]\n",
      " [-0.2  -0.2 ]\n",
      " [11.53 11.53]\n",
      " [-0.19 -0.19]\n",
      " [-0.14 -0.2 ]\n",
      " [-0.2  -0.2 ]\n",
      " [ 0.05  0.05]\n",
      " [-0.2  -0.2 ]\n",
      " [-0.2  -0.2 ]\n",
      " [-0.19 -0.19]\n",
      " [-0.2  -0.2 ]\n",
      " [-0.2  -0.2 ]\n",
      " [-0.11 -0.11]\n",
      " [-0.2  -0.2 ]\n",
      " [-0.17 -0.17]\n",
      " [-0.2  -0.2 ]\n",
      " [-0.15 -0.15]\n",
      " [-0.2  -0.2 ]\n",
      " [-0.2  -0.2 ]\n",
      " [ 0.76  0.76]\n",
      " [-0.16 -0.12]\n",
      " [ 2.72  2.72]\n",
      " [-0.2  -0.2 ]\n",
      " [-0.1  -0.1 ]\n",
      " [-0.16 -0.16]\n",
      " [-0.06 -0.06]\n",
      " [-0.03 -0.03]\n",
      " [-0.16 -0.16]\n",
      " [-0.2  -0.2 ]\n",
      " [-0.2  -0.2 ]\n",
      " [-0.18 -0.18]\n",
      " [-0.2  -0.2 ]\n",
      " [-0.16 -0.16]\n",
      " [ 1.1   1.1 ]\n",
      " [-0.2  -0.2 ]\n",
      " [-0.2  -0.2 ]\n",
      " [-0.07 -0.07]\n",
      " [-0.2  -0.2 ]\n",
      " [-0.2  -0.2 ]\n",
      " [-0.14 -0.19]\n",
      " [ 1.46  1.46]\n",
      " [-0.18 -0.2 ]\n",
      " [-0.2  -0.2 ]\n",
      " [ 0.02  0.02]\n",
      " [-0.2  -0.2 ]\n",
      " [-0.2  -0.2 ]\n",
      " [-0.17 -0.17]\n",
      " [-0.19 -0.19]\n",
      " [-0.2  -0.2 ]\n",
      " [-0.2  -0.2 ]\n",
      " [-0.1  -0.1 ]\n",
      " [-0.2  -0.2 ]\n",
      " [-0.2  -0.2 ]\n",
      " [-0.2  -0.2 ]\n",
      " [-0.19 -0.19]]\n"
     ]
    }
   ],
   "source": [
    "y_pred = lin_reg_2.predict(poly_reg.transform(X_test))\n",
    "np.set_printoptions(precision=2)\n",
    "print(np.concatenate((y_pred.reshape(len(y_pred),1), Y_test.reshape(len(Y_test),1)),1))"
   ]
  },
  {
   "cell_type": "code",
   "execution_count": 9,
   "id": "49968e7e",
   "metadata": {
    "scrolled": false
   },
   "outputs": [
    {
     "name": "stdout",
     "output_type": "stream",
     "text": [
      "[[ 0.05  0.01 -0.04  0.02 -0.06  0.02]]\n",
      "[-0.02]\n"
     ]
    }
   ],
   "source": [
    "print(lin_reg.coef_)\n",
    "print(lin_reg.intercept_)"
   ]
  },
  {
   "cell_type": "markdown",
   "id": "0d991682",
   "metadata": {},
   "source": [
    "### Linear Regression equation"
   ]
  },
  {
   "cell_type": "markdown",
   "id": "639d14d7",
   "metadata": {},
   "source": [
    "Area of impact = 0.05 x DMC + 0.01 x DC - 0.04 x ISI + 0.02 x temp - 0.06 x RH + 0.02 x wind - 0.02\n",
    "\n",
    "However, the polynomial equation gives far more accurate results."
   ]
  },
  {
   "cell_type": "code",
   "execution_count": 10,
   "id": "2f278a90",
   "metadata": {
    "scrolled": true
   },
   "outputs": [
    {
     "data": {
      "text/plain": [
       "0.9997858770638611"
      ]
     },
     "execution_count": 10,
     "metadata": {},
     "output_type": "execute_result"
    }
   ],
   "source": [
    "from sklearn.metrics import r2_score\n",
    "r2_score(Y_test, y_pred)"
   ]
  },
  {
   "cell_type": "markdown",
   "id": "f5f8d091",
   "metadata": {},
   "source": [
    "## Conclusion\n",
    "\n",
    "While the original authors wanted to predict the likelihood of a fire, when this dataset is solved using linear regression the only thing I can reliably determine is size of the resulting fire based on meteorological values. However, the size of a fire can be predicted with a very high degree of accuracy. As a result, fire departments would be able to predict the amount of resources required for a fire. That being said, it is very likely with a classification model the likelihood of a fire could also be predicted."
   ]
  },
  {
   "cell_type": "markdown",
   "id": "53d937d1",
   "metadata": {},
   "source": [
    "<h2 align=center>References</h2>\n",
    "\n",
    "[Cortez and Morais, 2007] P. Cortez and A. Morais. A Data Mining Approach to Predict Forest Fires using Meteorological Data. In J. Neves, M. F. Santos and J. Machado Eds., New Trends in Artificial Intelligence, Proceedings of the 13th EPIA 2007 - Portuguese Conference on Artificial Intelligence, December, Guimarães, Portugal, pp. 512-523, 2007. APPIA, ISBN-13 978-989-95618-0-9. Available at: http://www.dsi.uminho.pt/~pcortez/fires.pdf\n",
    "\n",
    "Dua, D. and Graff, C. (2019). UCI Machine Learning Repository [http://archive.ics.uci.edu/ml]. Irvine, CA: University of California, School of Information and Computer Science. "
   ]
  },
  {
   "cell_type": "code",
   "execution_count": null,
   "id": "c6288824",
   "metadata": {},
   "outputs": [],
   "source": []
  }
 ],
 "metadata": {
  "kernelspec": {
   "display_name": "Python 3 (ipykernel)",
   "language": "python",
   "name": "python3"
  },
  "language_info": {
   "codemirror_mode": {
    "name": "ipython",
    "version": 3
   },
   "file_extension": ".py",
   "mimetype": "text/x-python",
   "name": "python",
   "nbconvert_exporter": "python",
   "pygments_lexer": "ipython3",
   "version": "3.9.12"
  }
 },
 "nbformat": 4,
 "nbformat_minor": 5
}
