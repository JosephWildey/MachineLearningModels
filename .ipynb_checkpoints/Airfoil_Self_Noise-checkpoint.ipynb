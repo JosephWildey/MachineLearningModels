{
 "cells": [
  {
   "cell_type": "markdown",
   "id": "f21bce9d",
   "metadata": {},
   "source": [
    "# Airfoil Self Noise\n",
    "\n",
    "The NASA dataset comprises different size NACA 0012 airfoils at various wind tunnel speeds and angles of attack. The span of the airfoil and the observer position were the same in all of the experiments.\n",
    "\n",
    "Polynomial Regression has given the best fit so far. The limited features mean that a decision would not be worthwhile. It likely does not have enough features to be accurate. "
   ]
  },
  {
   "cell_type": "markdown",
   "id": "e95cd21b",
   "metadata": {},
   "source": [
    "## Index\n",
    "\n",
    "1. [Data Preprocessing](http://localhost:8888/notebooks/MachineLearningModels/Airfoil_Self_Noise.ipynb#Data-Preprocessing)\n",
    "2. [Train Model](http://localhost:8888/notebooks/MachineLearningModels/Airfoil_Self_Noise.ipynb#Training-Polynomial-model)\n",
    "3. [Prediction, Equation, and Evaluation](http://localhost:8888/notebooks/MachineLearningModels/Airfoil_Self_Noise.ipynb#Prediction,-final-equation,-and-evaluation)\n",
    "4. [Conclusion](http://localhost:8888/notebooks/MachineLearningModels/Airfoil_Self_Noise.ipynb#Conclusion)\n",
    "5. [Citation](http://localhost:8888/notebooks/MachineLearningModels/Airfoil_Self_Noise.ipynb#References)"
   ]
  },
  {
   "cell_type": "markdown",
   "id": "5dd65dae",
   "metadata": {},
   "source": [
    "## Data Preprocessing"
   ]
  },
  {
   "cell_type": "markdown",
   "id": "dd884994",
   "metadata": {},
   "source": [
    "### Import libraries\n",
    "\n",
    "Numpy, matplotlib, and pandas are the big three for Python"
   ]
  },
  {
   "cell_type": "code",
   "execution_count": 19,
   "id": "ca74829e",
   "metadata": {},
   "outputs": [],
   "source": [
    "import numpy as np\n",
    "import matplotlib.pyplot as plt\n",
    "import pandas as pd"
   ]
  },
  {
   "cell_type": "markdown",
   "id": "143277d9",
   "metadata": {},
   "source": [
    "### Import data\n",
    "\n",
    "As long as the value we're solving for is the last one this is a breeze."
   ]
  },
  {
   "cell_type": "code",
   "execution_count": 20,
   "id": "bca3bf6b",
   "metadata": {},
   "outputs": [],
   "source": [
    "dataset = pd.read_csv(\"/home/joe/Documents/ML-Resources/airfoil_self_noise.csv\")\n",
    "x = dataset.iloc[:, :-1].values\n",
    "y = dataset.iloc[:, -1].values"
   ]
  },
  {
   "cell_type": "markdown",
   "id": "63d20980",
   "metadata": {},
   "source": [
    "### Taking care of missing values\n",
    "\n",
    "The original dataset had roughly 9018 values, once a dataset gets kinda large it makes sense to just assume it has bad values. Don't even bother checking because sample is random, and head and tail only show a few entries at the beginning or end of the file. Worst case scenario this is a step you don't need."
   ]
  },
  {
   "cell_type": "code",
   "execution_count": 21,
   "id": "daf0a459",
   "metadata": {},
   "outputs": [],
   "source": [
    "from sklearn.impute import SimpleImputer\n",
    "imputer = SimpleImputer(missing_values=np.nan, strategy='mean')\n",
    "imputer.fit(x[:, 1:3])\n",
    "x[:, 1:3] = imputer.transform(x[:, 1:3])"
   ]
  },
  {
   "cell_type": "markdown",
   "id": "d2f9177f",
   "metadata": {},
   "source": [
    "### Split datasets\n",
    "\n",
    "The dataset needs to be split to prevent overtraining. Typically a 70/30 or 80/20 split is recommended. I just stick with 80/20 nowadays. If the test split is too small the model will be too far off and if it is too large it'll be overfit to the data."
   ]
  },
  {
   "cell_type": "code",
   "execution_count": 22,
   "id": "3e7a719f",
   "metadata": {},
   "outputs": [],
   "source": [
    "from sklearn.model_selection import train_test_split\n",
    "X_train, X_test, Y_train, Y_test = train_test_split(x, y, test_size = 0.2, random_state = 1)"
   ]
  },
  {
   "cell_type": "markdown",
   "id": "5db05b50",
   "metadata": {},
   "source": [
    "## Training Polynomial model\n",
    "\n",
    "I tried a few models here, I typically prefer to try with MLR - Multilinear Regression - to get a feel for the coefficients and r-score. \n",
    "\n",
    "Note that the degree here is set to 3, the same number of independent columns or coefficients. That's sort of coincidental and at the same time sort of determined by the data. There are enough coefficients that I can make the degree of the equation fit the number of coefficients. Typically a degree of 4 or 5 is the highest you want to go, but I've noticed sometimes the best fitting models are ones where the degree of the equation is equal to the number of coefficients."
   ]
  },
  {
   "cell_type": "code",
   "execution_count": 39,
   "id": "4a87afac",
   "metadata": {
    "scrolled": true
   },
   "outputs": [
    {
     "data": {
      "text/html": [
       "<style>#sk-container-id-7 {color: black;background-color: white;}#sk-container-id-7 pre{padding: 0;}#sk-container-id-7 div.sk-toggleable {background-color: white;}#sk-container-id-7 label.sk-toggleable__label {cursor: pointer;display: block;width: 100%;margin-bottom: 0;padding: 0.3em;box-sizing: border-box;text-align: center;}#sk-container-id-7 label.sk-toggleable__label-arrow:before {content: \"▸\";float: left;margin-right: 0.25em;color: #696969;}#sk-container-id-7 label.sk-toggleable__label-arrow:hover:before {color: black;}#sk-container-id-7 div.sk-estimator:hover label.sk-toggleable__label-arrow:before {color: black;}#sk-container-id-7 div.sk-toggleable__content {max-height: 0;max-width: 0;overflow: hidden;text-align: left;background-color: #f0f8ff;}#sk-container-id-7 div.sk-toggleable__content pre {margin: 0.2em;color: black;border-radius: 0.25em;background-color: #f0f8ff;}#sk-container-id-7 input.sk-toggleable__control:checked~div.sk-toggleable__content {max-height: 200px;max-width: 100%;overflow: auto;}#sk-container-id-7 input.sk-toggleable__control:checked~label.sk-toggleable__label-arrow:before {content: \"▾\";}#sk-container-id-7 div.sk-estimator input.sk-toggleable__control:checked~label.sk-toggleable__label {background-color: #d4ebff;}#sk-container-id-7 div.sk-label input.sk-toggleable__control:checked~label.sk-toggleable__label {background-color: #d4ebff;}#sk-container-id-7 input.sk-hidden--visually {border: 0;clip: rect(1px 1px 1px 1px);clip: rect(1px, 1px, 1px, 1px);height: 1px;margin: -1px;overflow: hidden;padding: 0;position: absolute;width: 1px;}#sk-container-id-7 div.sk-estimator {font-family: monospace;background-color: #f0f8ff;border: 1px dotted black;border-radius: 0.25em;box-sizing: border-box;margin-bottom: 0.5em;}#sk-container-id-7 div.sk-estimator:hover {background-color: #d4ebff;}#sk-container-id-7 div.sk-parallel-item::after {content: \"\";width: 100%;border-bottom: 1px solid gray;flex-grow: 1;}#sk-container-id-7 div.sk-label:hover label.sk-toggleable__label {background-color: #d4ebff;}#sk-container-id-7 div.sk-serial::before {content: \"\";position: absolute;border-left: 1px solid gray;box-sizing: border-box;top: 0;bottom: 0;left: 50%;z-index: 0;}#sk-container-id-7 div.sk-serial {display: flex;flex-direction: column;align-items: center;background-color: white;padding-right: 0.2em;padding-left: 0.2em;position: relative;}#sk-container-id-7 div.sk-item {position: relative;z-index: 1;}#sk-container-id-7 div.sk-parallel {display: flex;align-items: stretch;justify-content: center;background-color: white;position: relative;}#sk-container-id-7 div.sk-item::before, #sk-container-id-7 div.sk-parallel-item::before {content: \"\";position: absolute;border-left: 1px solid gray;box-sizing: border-box;top: 0;bottom: 0;left: 50%;z-index: -1;}#sk-container-id-7 div.sk-parallel-item {display: flex;flex-direction: column;z-index: 1;position: relative;background-color: white;}#sk-container-id-7 div.sk-parallel-item:first-child::after {align-self: flex-end;width: 50%;}#sk-container-id-7 div.sk-parallel-item:last-child::after {align-self: flex-start;width: 50%;}#sk-container-id-7 div.sk-parallel-item:only-child::after {width: 0;}#sk-container-id-7 div.sk-dashed-wrapped {border: 1px dashed gray;margin: 0 0.4em 0.5em 0.4em;box-sizing: border-box;padding-bottom: 0.4em;background-color: white;}#sk-container-id-7 div.sk-label label {font-family: monospace;font-weight: bold;display: inline-block;line-height: 1.2em;}#sk-container-id-7 div.sk-label-container {text-align: center;}#sk-container-id-7 div.sk-container {/* jupyter's `normalize.less` sets `[hidden] { display: none; }` but bootstrap.min.css set `[hidden] { display: none !important; }` so we also need the `!important` here to be able to override the default hidden behavior on the sphinx rendered scikit-learn.org. See: https://github.com/scikit-learn/scikit-learn/issues/21755 */display: inline-block !important;position: relative;}#sk-container-id-7 div.sk-text-repr-fallback {display: none;}</style><div id=\"sk-container-id-7\" class=\"sk-top-container\"><div class=\"sk-text-repr-fallback\"><pre>LinearRegression()</pre><b>In a Jupyter environment, please rerun this cell to show the HTML representation or trust the notebook. <br />On GitHub, the HTML representation is unable to render, please try loading this page with nbviewer.org.</b></div><div class=\"sk-container\" hidden><div class=\"sk-item\"><div class=\"sk-estimator sk-toggleable\"><input class=\"sk-toggleable__control sk-hidden--visually\" id=\"sk-estimator-id-7\" type=\"checkbox\" checked><label for=\"sk-estimator-id-7\" class=\"sk-toggleable__label sk-toggleable__label-arrow\">LinearRegression</label><div class=\"sk-toggleable__content\"><pre>LinearRegression()</pre></div></div></div></div></div>"
      ],
      "text/plain": [
       "LinearRegression()"
      ]
     },
     "execution_count": 39,
     "metadata": {},
     "output_type": "execute_result"
    }
   ],
   "source": [
    "from sklearn.preprocessing import PolynomialFeatures\n",
    "from sklearn.linear_model import LinearRegression\n",
    "poly_reg = PolynomialFeatures(degree = 3)\n",
    "X_poly = poly_reg.fit_transform(X_train)\n",
    "regressor = LinearRegression()\n",
    "regressor.fit(X_poly, Y_train)"
   ]
  },
  {
   "cell_type": "markdown",
   "id": "06c4594a",
   "metadata": {},
   "source": [
    "## Prediction, final equation, and evaluation"
   ]
  },
  {
   "cell_type": "markdown",
   "id": "713424f6",
   "metadata": {},
   "source": [
    "### Prediction output\n",
    "\n",
    "The left-hand values are predicted values. The right hand values are values from the test set."
   ]
  },
  {
   "cell_type": "code",
   "execution_count": 40,
   "id": "8f0a4ba2",
   "metadata": {},
   "outputs": [
    {
     "name": "stdout",
     "output_type": "stream",
     "text": [
      "[[119.64 117.74]\n",
      " [115.76 118.12]\n",
      " [125.24 120.66]\n",
      " [129.1  122.23]\n",
      " [130.17 129.34]\n",
      " [129.58 126.59]\n",
      " [131.55 133.44]\n",
      " [129.92 131.58]\n",
      " [125.94 111.91]\n",
      " [127.56 129.97]\n",
      " [123.31 118.62]\n",
      " [125.1  126.34]\n",
      " [121.2  123.92]\n",
      " [126.35 129.  ]\n",
      " [104.3  108.69]\n",
      " [123.64 125.4 ]\n",
      " [116.5  117.78]\n",
      " [124.01 123.25]\n",
      " [130.62 132.3 ]\n",
      " [124.66 125.72]\n",
      " [129.21 135.54]\n",
      " [120.85 119.56]\n",
      " [118.5  110.45]\n",
      " [128.64 123.74]\n",
      " [125.75 127.63]\n",
      " [127.06 124.76]\n",
      " [130.83 131.72]\n",
      " [125.93 123.69]\n",
      " [126.14 129.98]\n",
      " [129.6  128.52]\n",
      " [124.23 126.54]\n",
      " [126.61 125.8 ]\n",
      " [129.33 128.25]\n",
      " [128.18 130.96]\n",
      " [129.16 126.67]\n",
      " [130.89 131.24]\n",
      " [124.98 126.54]\n",
      " [126.25 125.5 ]\n",
      " [127.54 129.09]\n",
      " [131.58 133.38]\n",
      " [124.65 124.53]\n",
      " [128.08 128.71]\n",
      " [127.47 128.81]\n",
      " [128.36 123.76]\n",
      " [124.31 130.  ]\n",
      " [123.46 121.66]\n",
      " [124.22 124.45]\n",
      " [123.48 128.2 ]\n",
      " [123.9  120.04]\n",
      " [120.45 124.3 ]\n",
      " [123.26 121.77]\n",
      " [130.46 133.04]\n",
      " [128.15 131.45]\n",
      " [130.75 119.51]\n",
      " [132.33 135.87]\n",
      " [125.94 114.04]\n",
      " [127.85 129.38]\n",
      " [126.21 121.55]\n",
      " [108.7  111.53]\n",
      " [130.03 128.71]\n",
      " [128.27 120.77]\n",
      " [117.11 113.11]\n",
      " [129.75 132.76]\n",
      " [119.12 120.55]\n",
      " [130.72 132.09]\n",
      " [126.48 129.47]\n",
      " [121.7  122.23]\n",
      " [118.68 121.12]\n",
      " [129.46 129.26]\n",
      " [125.54 121.89]\n",
      " [129.09 127.41]\n",
      " [106.84 110.69]\n",
      " [125.6  124.69]\n",
      " [128.84 133.24]\n",
      " [131.12 131.84]\n",
      " [123.68 127.2 ]\n",
      " [108.87 112.01]\n",
      " [113.94 114.04]\n",
      " [114.71 114.08]\n",
      " [132.14 135.33]\n",
      " [128.23 130.69]\n",
      " [128.65 125.35]\n",
      " [121.79 121.94]\n",
      " [130.3  126.07]\n",
      " [130.41 125.81]\n",
      " [127.24 123.08]\n",
      " [125.83 129.03]\n",
      " [120.72 121.78]\n",
      " [124.94 126.46]\n",
      " [128.37 138.76]\n",
      " [128.84 130.19]\n",
      " [128.73 134.32]\n",
      " [128.49 117.19]\n",
      " [126.42 126.81]\n",
      " [110.08 110.22]\n",
      " [131.19 131.81]\n",
      " [128.3  135.46]\n",
      " [127.59 128.99]\n",
      " [121.5  118.44]\n",
      " [129.92 128.41]\n",
      " [128.5  130.94]\n",
      " [125.87 133.77]\n",
      " [126.24 130.22]\n",
      " [131.69 134.11]\n",
      " [128.09 121.85]\n",
      " [130.35 127.39]\n",
      " [125.74 126.35]\n",
      " [119.34 120.26]\n",
      " [126.97 120.5 ]\n",
      " [127.3  131.57]\n",
      " [122.73 124.44]\n",
      " [128.99 127.47]\n",
      " [125.86 129.86]\n",
      " [129.87 130.12]\n",
      " [121.97 119.14]\n",
      " [130.71 121.62]\n",
      " [123.8  123.07]\n",
      " [128.99 127.01]\n",
      " [125.11 126.83]\n",
      " [126.93 120.06]\n",
      " [122.06 120.78]\n",
      " [130.72 133.55]\n",
      " [120.14 125.72]\n",
      " [125.67 136.89]\n",
      " [123.75 123.74]\n",
      " [129.5  132.4 ]\n",
      " [107.78 112.04]\n",
      " [126.77 124.83]\n",
      " [125.61 126.99]\n",
      " [129.82 127.86]\n",
      " [128.91 123.88]\n",
      " [129.59 119.54]\n",
      " [119.19 118.83]\n",
      " [119.9  123.46]\n",
      " [125.7  127.59]\n",
      " [129.59 129.93]\n",
      " [126.27 126.19]\n",
      " [126.4  130.75]\n",
      " [120.22 116.41]\n",
      " [130.85 124.16]\n",
      " [130.51 132.59]\n",
      " [120.63 119.65]\n",
      " [121.15 123.31]\n",
      " [128.38 118.59]\n",
      " [129.34 128.24]\n",
      " [114.77 117.5 ]\n",
      " [126.08 133.81]\n",
      " [123.95 125.52]\n",
      " [125.9  115.46]\n",
      " [116.92 120.79]\n",
      " [122.34 114.9 ]\n",
      " [109.47 111.14]\n",
      " [126.34 125.31]\n",
      " [119.51 122.53]\n",
      " [123.78 120.56]\n",
      " [129.01 129.65]\n",
      " [131.6  134.56]\n",
      " [126.1  121.59]\n",
      " [126.19 123.7 ]\n",
      " [132.58 134.5 ]\n",
      " [126.71 119.97]\n",
      " [128.05 125.05]\n",
      " [114.51 116.92]\n",
      " [129.79 130.56]\n",
      " [131.57 134.31]\n",
      " [117.22 118.13]\n",
      " [124.41 121.64]\n",
      " [129.02 129.97]\n",
      " [127.7  125.01]\n",
      " [128.58 121.58]\n",
      " [128.43 119.32]\n",
      " [122.55 124.21]\n",
      " [130.91 129.14]\n",
      " [128.6  122.61]\n",
      " [129.71 134.53]\n",
      " [117.97 116.66]\n",
      " [129.09 131.54]\n",
      " [123.24 111.82]\n",
      " [129.26 122.29]\n",
      " [128.66 129.06]\n",
      " [127.13 130.17]\n",
      " [124.85 120.48]\n",
      " [131.29 131.31]\n",
      " [124.14 122.1 ]\n",
      " [123.74 121.5 ]\n",
      " [129.26 130.05]\n",
      " [127.05 125.62]\n",
      " [130.57 132.77]\n",
      " [125.15 130.64]\n",
      " [124.81 117.48]\n",
      " [130.37 124.32]\n",
      " [124.16 125.16]\n",
      " [122.22 119.34]\n",
      " [128.54 131.18]\n",
      " [119.99 115.66]\n",
      " [126.46 125.72]\n",
      " [131.57 132.35]\n",
      " [129.6  132.13]\n",
      " [127.62 129.57]\n",
      " [130.58 131.01]\n",
      " [130.6  128.95]\n",
      " [116.7  118.71]\n",
      " [129.26 131.23]\n",
      " [130.67 131.43]\n",
      " [127.63 132.15]\n",
      " [121.27 119.21]\n",
      " [125.37 126.41]\n",
      " [112.51 112.25]\n",
      " [128.95 130.11]\n",
      " [128.61 122.91]\n",
      " [109.06 113.33]\n",
      " [127.22 123.89]\n",
      " [126.76 119.15]\n",
      " [125.58 130.61]\n",
      " [129.07 124.69]\n",
      " [128.22 132.51]\n",
      " [121.88 117.6 ]\n",
      " [111.39 108.27]\n",
      " [128.51 126.27]\n",
      " [114.62 112.7 ]\n",
      " [122.24 120.58]\n",
      " [130.73 133.26]\n",
      " [128.23 127.31]\n",
      " [124.05 124.1 ]\n",
      " [125.47 129.3 ]\n",
      " [ 98.21 107.28]\n",
      " [125.3  125.54]\n",
      " [126.16 124.36]\n",
      " [127.76 123.12]\n",
      " [126.11 133.31]\n",
      " [123.85 122.22]\n",
      " [130.95 131.06]\n",
      " [127.56 135.92]\n",
      " [123.06 119.88]\n",
      " [120.25 119.64]\n",
      " [125.51 127.85]\n",
      " [127.66 128.82]\n",
      " [123.56 123.74]\n",
      " [108.29 117.62]\n",
      " [130.82 128.4 ]\n",
      " [128.86 126.76]\n",
      " [129.04 126.16]\n",
      " [107.65 110.36]\n",
      " [126.83 120.14]\n",
      " [127.36 130.72]\n",
      " [120.07 122.17]\n",
      " [126.55 128.24]\n",
      " [128.25 131.45]\n",
      " [130.11 129.68]\n",
      " [124.19 124.36]\n",
      " [126.75 129.95]\n",
      " [127.15 131.26]\n",
      " [126.87 126.75]\n",
      " [130.29 130.03]\n",
      " [127.52 130.67]\n",
      " [129.83 124.16]\n",
      " [117.15 110.89]\n",
      " [130.34 130.2 ]\n",
      " [125.52 118.29]\n",
      " [130.28 128.4 ]\n",
      " [126.94 119.29]\n",
      " [127.35 127.81]\n",
      " [125.07 122.21]\n",
      " [115.75 110.78]\n",
      " [118.28 117.13]\n",
      " [105.8  112.77]\n",
      " [111.64 112.67]\n",
      " [128.59 122.97]\n",
      " [125.87 126.3 ]\n",
      " [107.88 107.15]\n",
      " [126.71 127.73]\n",
      " [122.59 122.44]\n",
      " [126.54 124.25]\n",
      " [123.76 125.73]\n",
      " [132.55 135.48]\n",
      " [132.53 135.43]\n",
      " [118.01 115.86]\n",
      " [129.94 126.78]\n",
      " [124.99 126.85]\n",
      " [126.66 130.05]\n",
      " [125.45 125.8 ]\n",
      " [123.7  118.9 ]\n",
      " [130.61 133.25]\n",
      " [127.89 124.  ]\n",
      " [123.52 121.79]\n",
      " [127.37 128.34]\n",
      " [126.24 124.72]\n",
      " [131.06 132.83]\n",
      " [125.54 117.39]\n",
      " [101.79 108.03]\n",
      " [119.97 121.53]\n",
      " [125.92 114.71]\n",
      " [126.58 121.22]\n",
      " [127.8  131.71]\n",
      " [129.07 127.12]\n",
      " [126.81 124.99]\n",
      " [125.86 122.61]\n",
      " [126.22 123.54]\n",
      " [112.03 112.24]\n",
      " [127.85 136.28]\n",
      " [120.13 121.76]]\n"
     ]
    }
   ],
   "source": [
    "y_pred = regressor.predict(poly_reg.transform(X_test))\n",
    "np.set_printoptions(precision=2)\n",
    "print(np.concatenate((y_pred.reshape(len(y_pred),1), Y_test.reshape(len(Y_test),1)),1))"
   ]
  },
  {
   "cell_type": "markdown",
   "id": "c4fc2150",
   "metadata": {},
   "source": [
    "### Final equation\n",
    "\n",
    "This'll give the coefficients and intercept values. This is far more useful with multiple linear regression than here, but I left it anyway."
   ]
  },
  {
   "cell_type": "code",
   "execution_count": 41,
   "id": "5e52ee28",
   "metadata": {
    "scrolled": true
   },
   "outputs": [
    {
     "name": "stdout",
     "output_type": "stream",
     "text": [
      "[ 0.00e+00  3.30e-03  1.17e+02 -1.94e+01 -2.96e-07 -3.13e-02 -1.99e-01\n",
      " -5.84e+02 -4.70e+02 -4.48e+01  6.91e-12  7.91e-07  9.32e-06  5.14e-02\n",
      " -9.23e-02  1.74e+00  8.46e+02 -1.32e+02 -2.58e+01 -6.03e+00]\n",
      "123.96018648733657\n"
     ]
    }
   ],
   "source": [
    "print(regressor.coef_)\n",
    "print(regressor.intercept_)"
   ]
  },
  {
   "cell_type": "markdown",
   "id": "03c2d3b6",
   "metadata": {},
   "source": [
    "The values below were found with Multilinear Regression, and its r-score was very close to the the Polynomial Model's r-score:\n",
    "\n",
    "Scaled sound pressure level = frequency (hertz) - 0.00128 x angle of attack (degrees) - 0.426 x\n",
    "Chord length (meters) - 36.2 x Free-stream velocity + 0.1 x Suction side displacement thickness (meters) - 151 + 133.06056810486479 \n",
    "\n",
    "Free stream velocity and angle of attack contribute very litle to the model's accuracy. Removing them both only knocked the r-score down a few points."
   ]
  },
  {
   "cell_type": "markdown",
   "id": "cce216bb",
   "metadata": {},
   "source": [
    "### Evaluate the model\n",
    "\n",
    "The closer the r-score is to 1 the better. Negative values are rare, and indicate something is horribly wrong. Typically, the r-score should be between 0 and 1. If you get around 0.7 in the real world you have a strong correlation. "
   ]
  },
  {
   "cell_type": "code",
   "execution_count": 42,
   "id": "5b48bff8",
   "metadata": {},
   "outputs": [
    {
     "data": {
      "text/plain": [
       "0.6059162515530709"
      ]
     },
     "execution_count": 42,
     "metadata": {},
     "output_type": "execute_result"
    }
   ],
   "source": [
    "from sklearn.metrics import r2_score\n",
    "r2_score(Y_test, y_pred)"
   ]
  },
  {
   "cell_type": "markdown",
   "id": "0e261749",
   "metadata": {},
   "source": [
    "## Conclusion\n",
    "\n",
    "It seems the physical attributes are most closely correlated to the sound pressure created by an airfoil."
   ]
  },
  {
   "cell_type": "markdown",
   "id": "6d5c0bcc",
   "metadata": {},
   "source": [
    "<h2 align=center>References</h2>\n",
    "\n",
    "Dataset: https://archive.ics.uci.edu/ml/datasets/airfoil+self-noise#\n",
    "\n",
    "Dua, D. and Graff, C. (2019). UCI Machine Learning Repository [http://archive.ics.uci.edu/ml]. Irvine, CA: University of California, School of Information and Computer Science.\n",
    "\n",
    "Donor: Dr Roberto Lopez robertolopez '@' intelnics.com Intelnics\n",
    "\n",
    "Creators: Thomas F. Brooks, D. Stuart Pope and Michael A. Marcolini NASA"
   ]
  }
 ],
 "metadata": {
  "kernelspec": {
   "display_name": "Python 3 (ipykernel)",
   "language": "python",
   "name": "python3"
  },
  "language_info": {
   "codemirror_mode": {
    "name": "ipython",
    "version": 3
   },
   "file_extension": ".py",
   "mimetype": "text/x-python",
   "name": "python",
   "nbconvert_exporter": "python",
   "pygments_lexer": "ipython3",
   "version": "3.9.12"
  }
 },
 "nbformat": 4,
 "nbformat_minor": 5
}
