{
 "cells": [
  {
   "cell_type": "markdown",
   "id": "f998ca37",
   "metadata": {
    "colab_type": "text",
    "id": "view-in-github"
   },
   "source": [
    "<a href=\"https://colab.research.google.com/github/JosephWildey/MachineLearningModels/blob/main/Simple_Linear_Regression.ipynb\" target=\"_parent\"><img src=\"https://colab.research.google.com/assets/colab-badge.svg\" alt=\"Open In Colab\"/></a>"
   ]
  },
  {
   "cell_type": "markdown",
   "id": "5527ea2d",
   "metadata": {
    "id": "5527ea2d"
   },
   "source": [
    "# Simple Linear Regression\n",
    "\n",
    "A typical line of best fit. "
   ]
  },
  {
   "cell_type": "markdown",
   "id": "4de02ce7",
   "metadata": {},
   "source": [
    "## Problem statement \n",
    "\n",
    "Determine the correlation between years of experience and increase of income."
   ]
  },
  {
   "cell_type": "markdown",
   "id": "4db3c48a",
   "metadata": {},
   "source": [
    "## Index\n",
    "\n",
    "1. [Data Preprocessing](http://localhost:8888/notebooks/MachineLearningModels/Simple_Linear_Regression.ipynb#Data-Preprocessing-steps)\n",
    "2. [Train the Simple Linear Regression Model](http://localhost:8888/notebooks/MachineLearningModels/Simple_Linear_Regression.ipynb#Training-the-Simple-Linear-Regression-model-on-the-Training-set)\n",
    "3. [Predict and visualize the results](http://localhost:8888/notebooks/MachineLearningModels/Simple_Linear_Regression.ipynb#Test-Results)\n",
    "4. [Final Linear Regression Equation](http://localhost:8888/notebooks/MachineLearningModels/Simple_Linear_Regression.ipynb#Final-linear-regression-equation)\n",
    "5. [Conclusion](http://localhost:8888/notebooks/MachineLearningModels/Simple_Linear_Regression.ipynb#Conclusion)"
   ]
  },
  {
   "cell_type": "markdown",
   "id": "8eb9d34f",
   "metadata": {},
   "source": [
    "## Data Preprocessing steps"
   ]
  },
  {
   "cell_type": "markdown",
   "id": "bec36d35",
   "metadata": {
    "id": "bec36d35"
   },
   "source": [
    "### Import the Libraries\n",
    "\n",
    "Numpy, Matplotlib, and Pandas are the primary libraries used for these models. Scikit-learn is also used, but since its import statement is based on context that comes later."
   ]
  },
  {
   "cell_type": "code",
   "execution_count": null,
   "id": "2fbaad41",
   "metadata": {
    "id": "2fbaad41"
   },
   "outputs": [],
   "source": [
    "import numpy as np\n",
    "import matplotlib.pyplot as plt\n",
    "import pandas as pd"
   ]
  },
  {
   "cell_type": "markdown",
   "id": "0ca164e6",
   "metadata": {
    "id": "0ca164e6"
   },
   "source": [
    "### Importing the Dataset\n",
    "\n",
    "This reads the \"Salary_Data.csv\" file in the \"Data\" folder into a Pandas Dataframe for further processing."
   ]
  },
  {
   "cell_type": "code",
   "execution_count": null,
   "id": "8f9fec2c",
   "metadata": {
    "id": "8f9fec2c"
   },
   "outputs": [],
   "source": [
    "dataset = pd.read_csv(\"/home/joe/Documents/ML-Resources/Salary_Data.csv\")\n",
    "X = dataset.iloc[:, :-1].values\n",
    "y = dataset.iloc[:, -1].values"
   ]
  },
  {
   "cell_type": "markdown",
   "id": "eb0d8fbd",
   "metadata": {
    "id": "eb0d8fbd"
   },
   "source": [
    "### Splitting the dataset into training set and test set\n",
    "\n",
    "Datasets must be split into a 'training' and 'testing' set to avoid overfitting. Typically, the training set should be around 70-80% of the total dataset. This should be enough data for a model to get a strong conclusion without overfitting the model to the data. In other words, the conclusion should be accurate for this dataset and any related dataset."
   ]
  },
  {
   "cell_type": "code",
   "execution_count": null,
   "id": "75eeb525",
   "metadata": {
    "id": "75eeb525"
   },
   "outputs": [],
   "source": [
    "from sklearn.model_selection import train_test_split\n",
    "X_train, X_test, y_train, y_test = train_test_split(X, y, test_size = 0.2, random_state = 0)"
   ]
  },
  {
   "cell_type": "markdown",
   "id": "b14aa7a2",
   "metadata": {
    "id": "b14aa7a2"
   },
   "source": [
    "## Training the Simple Linear Regression model\n",
    "\n",
    "Use linear model class from scikit learn to call linear regression\n",
    "\n",
    "The model is an instance of this class\n",
    "\n",
    "Use fit to attach training data to the model"
   ]
  },
  {
   "cell_type": "code",
   "execution_count": null,
   "id": "1062ab83",
   "metadata": {
    "id": "1062ab83",
    "outputId": "1ba9b90a-220b-4623-df0f-baa04e94bbd6",
    "scrolled": true
   },
   "outputs": [
    {
     "data": {
      "text/html": [
       "<style>#sk-container-id-1 {color: black;background-color: white;}#sk-container-id-1 pre{padding: 0;}#sk-container-id-1 div.sk-toggleable {background-color: white;}#sk-container-id-1 label.sk-toggleable__label {cursor: pointer;display: block;width: 100%;margin-bottom: 0;padding: 0.3em;box-sizing: border-box;text-align: center;}#sk-container-id-1 label.sk-toggleable__label-arrow:before {content: \"▸\";float: left;margin-right: 0.25em;color: #696969;}#sk-container-id-1 label.sk-toggleable__label-arrow:hover:before {color: black;}#sk-container-id-1 div.sk-estimator:hover label.sk-toggleable__label-arrow:before {color: black;}#sk-container-id-1 div.sk-toggleable__content {max-height: 0;max-width: 0;overflow: hidden;text-align: left;background-color: #f0f8ff;}#sk-container-id-1 div.sk-toggleable__content pre {margin: 0.2em;color: black;border-radius: 0.25em;background-color: #f0f8ff;}#sk-container-id-1 input.sk-toggleable__control:checked~div.sk-toggleable__content {max-height: 200px;max-width: 100%;overflow: auto;}#sk-container-id-1 input.sk-toggleable__control:checked~label.sk-toggleable__label-arrow:before {content: \"▾\";}#sk-container-id-1 div.sk-estimator input.sk-toggleable__control:checked~label.sk-toggleable__label {background-color: #d4ebff;}#sk-container-id-1 div.sk-label input.sk-toggleable__control:checked~label.sk-toggleable__label {background-color: #d4ebff;}#sk-container-id-1 input.sk-hidden--visually {border: 0;clip: rect(1px 1px 1px 1px);clip: rect(1px, 1px, 1px, 1px);height: 1px;margin: -1px;overflow: hidden;padding: 0;position: absolute;width: 1px;}#sk-container-id-1 div.sk-estimator {font-family: monospace;background-color: #f0f8ff;border: 1px dotted black;border-radius: 0.25em;box-sizing: border-box;margin-bottom: 0.5em;}#sk-container-id-1 div.sk-estimator:hover {background-color: #d4ebff;}#sk-container-id-1 div.sk-parallel-item::after {content: \"\";width: 100%;border-bottom: 1px solid gray;flex-grow: 1;}#sk-container-id-1 div.sk-label:hover label.sk-toggleable__label {background-color: #d4ebff;}#sk-container-id-1 div.sk-serial::before {content: \"\";position: absolute;border-left: 1px solid gray;box-sizing: border-box;top: 0;bottom: 0;left: 50%;z-index: 0;}#sk-container-id-1 div.sk-serial {display: flex;flex-direction: column;align-items: center;background-color: white;padding-right: 0.2em;padding-left: 0.2em;position: relative;}#sk-container-id-1 div.sk-item {position: relative;z-index: 1;}#sk-container-id-1 div.sk-parallel {display: flex;align-items: stretch;justify-content: center;background-color: white;position: relative;}#sk-container-id-1 div.sk-item::before, #sk-container-id-1 div.sk-parallel-item::before {content: \"\";position: absolute;border-left: 1px solid gray;box-sizing: border-box;top: 0;bottom: 0;left: 50%;z-index: -1;}#sk-container-id-1 div.sk-parallel-item {display: flex;flex-direction: column;z-index: 1;position: relative;background-color: white;}#sk-container-id-1 div.sk-parallel-item:first-child::after {align-self: flex-end;width: 50%;}#sk-container-id-1 div.sk-parallel-item:last-child::after {align-self: flex-start;width: 50%;}#sk-container-id-1 div.sk-parallel-item:only-child::after {width: 0;}#sk-container-id-1 div.sk-dashed-wrapped {border: 1px dashed gray;margin: 0 0.4em 0.5em 0.4em;box-sizing: border-box;padding-bottom: 0.4em;background-color: white;}#sk-container-id-1 div.sk-label label {font-family: monospace;font-weight: bold;display: inline-block;line-height: 1.2em;}#sk-container-id-1 div.sk-label-container {text-align: center;}#sk-container-id-1 div.sk-container {/* jupyter's `normalize.less` sets `[hidden] { display: none; }` but bootstrap.min.css set `[hidden] { display: none !important; }` so we also need the `!important` here to be able to override the default hidden behavior on the sphinx rendered scikit-learn.org. See: https://github.com/scikit-learn/scikit-learn/issues/21755 */display: inline-block !important;position: relative;}#sk-container-id-1 div.sk-text-repr-fallback {display: none;}</style><div id=\"sk-container-id-1\" class=\"sk-top-container\"><div class=\"sk-text-repr-fallback\"><pre>LinearRegression()</pre><b>In a Jupyter environment, please rerun this cell to show the HTML representation or trust the notebook. <br />On GitHub, the HTML representation is unable to render, please try loading this page with nbviewer.org.</b></div><div class=\"sk-container\" hidden><div class=\"sk-item\"><div class=\"sk-estimator sk-toggleable\"><input class=\"sk-toggleable__control sk-hidden--visually\" id=\"sk-estimator-id-1\" type=\"checkbox\" checked><label for=\"sk-estimator-id-1\" class=\"sk-toggleable__label sk-toggleable__label-arrow\">LinearRegression</label><div class=\"sk-toggleable__content\"><pre>LinearRegression()</pre></div></div></div></div></div>"
      ],
      "text/plain": [
       "LinearRegression()"
      ]
     },
     "execution_count": 4,
     "metadata": {},
     "output_type": "execute_result"
    }
   ],
   "source": [
    "from sklearn.linear_model import LinearRegression\n",
    "regressor = LinearRegression()\n",
    "regressor.fit(X_train, y_train)"
   ]
  },
  {
   "cell_type": "markdown",
   "id": "ecba6dd5",
   "metadata": {},
   "source": [
    "## Test Results\n",
    "\n",
    "This is basically a sanity test to ensure the prediction the model creates is realistic and fits expectations."
   ]
  },
  {
   "cell_type": "markdown",
   "id": "045a371e",
   "metadata": {
    "id": "045a371e"
   },
   "source": [
    "### Predicting the Test Results"
   ]
  },
  {
   "cell_type": "code",
   "execution_count": null,
   "id": "3c030d6b",
   "metadata": {
    "id": "3c030d6b",
    "outputId": "b3d1a8c5-6d3f-4090-943b-8646491d9438"
   },
   "outputs": [
    {
     "data": {
      "text/plain": [
       "array([ 40748.96184072, 122699.62295594,  64961.65717022,  63099.14214487,\n",
       "       115249.56285456, 107799.50275317])"
      ]
     },
     "execution_count": 7,
     "metadata": {},
     "output_type": "execute_result"
    }
   ],
   "source": [
    "y_pred = regressor.predict(X_test)"
   ]
  },
  {
   "cell_type": "markdown",
   "id": "9abe5b79",
   "metadata": {
    "id": "9abe5b79"
   },
   "source": [
    "### Visualize the Training set results\n",
    "\n",
    "red points = real salaries\n",
    "\n",
    "blue line = predicted salaries \n",
    "\n",
    "the scatter plot lets us plots the points\n",
    "\n",
    "plot lets us plot a line"
   ]
  },
  {
   "cell_type": "code",
   "execution_count": null,
   "id": "683414ea",
   "metadata": {
    "id": "683414ea",
    "outputId": "2a7cf66e-c227-4290-90ba-1aa06f86ab16"
   },
   "outputs": [
    {
     "data": {
      "image/png": "[encoded data removed]",
      "text/plain": [
       "<Figure size 432x288 with 1 Axes>"
      ]
     },
     "metadata": {
      "needs_background": "light"
     },
     "output_type": "display_data"
    }
   ],
   "source": [
    "plt.scatter(X_train, y_train, color=\"red\")\n",
    "\n",
    "plt.plot(X_train, regressor.predict(X_train), color=\"blue\")\n",
    "\n",
    "plt.title(\"Salary with respect to Experience (Training set)\")\n",
    "\n",
    "plt.xlabel(\"Years of Experience\")\n",
    "\n",
    "plt.ylabel(\"Salary\")\n",
    "\n",
    "plt.show()"
   ]
  },
  {
   "cell_type": "markdown",
   "id": "23ba75d4",
   "metadata": {
    "id": "23ba75d4"
   },
   "source": [
    "### Visualize the Test set results\n",
    "\n",
    "I used the test values in the plot arguments, but that was not necessary here. Test and train datasets will give the same result due to the nature of simple linear regression.\n",
    "\n",
    "This worked out so well because there was a linear relationship in the data."
   ]
  },
  {
   "cell_type": "code",
   "execution_count": null,
   "id": "b913c08e",
   "metadata": {
    "id": "b913c08e",
    "outputId": "a2f8c33c-53b7-4448-9203-9b2d0c0191b1"
   },
   "outputs": [
    {
     "data": {
      "image/png": "[encoded data removed]",
      "text/plain": [
       "<Figure size 432x288 with 1 Axes>"
      ]
     },
     "metadata": {
      "needs_background": "light"
     },
     "output_type": "display_data"
    }
   ],
   "source": [
    "plt.scatter(X_test, y_test, color=\"red\")\n",
    "\n",
    "plt.plot(X_test, regressor.predict(X_test), color=\"blue\")\n",
    "\n",
    "plt.title(\"Salary with respect to Experience (Test set)\")\n",
    "\n",
    "plt.xlabel(\"Years of Experience\")\n",
    "\n",
    "plt.ylabel(\"Salary\")\n",
    "\n",
    "plt.show()"
   ]
  },
  {
   "cell_type": "markdown",
   "id": "ce9fe8d5",
   "metadata": {
    "id": "ce9fe8d5"
   },
   "source": [
    "### Making a Single Prediction\n",
    "\n",
    "Two sets of brackets, not one, because predict expects a 2d array. Dimensionality in Python is expressed in the number of brackets an array has. In Tensorflow this is referred to as \"rank.\""
   ]
  },
  {
   "cell_type": "code",
   "execution_count": null,
   "id": "8b2e4c88",
   "metadata": {
    "id": "8b2e4c88",
    "outputId": "5c024c93-ba8a-4f08-9ec4-2d5674b2452b"
   },
   "outputs": [
    {
     "name": "stdout",
     "output_type": "stream",
     "text": [
      "[138531.00067138]\n"
     ]
    }
   ],
   "source": [
    "print(regressor.predict([[12]]))"
   ]
  },
  {
   "cell_type": "markdown",
   "id": "a79f1657",
   "metadata": {
    "id": "a79f1657"
   },
   "source": [
    "## Final linear regression equation"
   ]
  },
  {
   "cell_type": "code",
   "execution_count": null,
   "id": "c03c2ac7",
   "metadata": {
    "id": "c03c2ac7",
    "outputId": "8ff3f481-3b18-48c8-d99b-bd27ac8cf2c4"
   },
   "outputs": [
    {
     "name": "stdout",
     "output_type": "stream",
     "text": [
      "[9312.57512673]\n",
      "26780.09915062818\n"
     ]
    }
   ],
   "source": [
    "print(regressor.coef_)\n",
    "print(regressor.intercept_)"
   ]
  },
  {
   "cell_type": "markdown",
   "id": "74b1ee65",
   "metadata": {
    "id": "74b1ee65"
   },
   "source": [
    "Therefore the equation is:\n",
    "\n",
    "Salary = 9312.57512673 x YearsExperience + 26780.09915062818"
   ]
  },
  {
   "cell_type": "markdown",
   "id": "b2bd99bc",
   "metadata": {},
   "source": [
    "## Conclusion\n",
    "\n",
    "the typical salary of this dataset starts at \\\\$26,780.10, and each year the increase in salary someone can expect is \\$9,312.58."
   ]
  }
 ],
 "metadata": {
  "colab": {
   "include_colab_link": true,
   "name": "Simple Linear Regression.ipynb",
   "provenance": []
  },
  "kernelspec": {
   "display_name": "Python 3 (ipykernel)",
   "language": "python",
   "name": "python3"
  },
  "language_info": {
   "codemirror_mode": {
    "name": "ipython",
    "version": 3
   },
   "file_extension": ".py",
   "mimetype": "text/x-python",
   "name": "python",
   "nbconvert_exporter": "python",
   "pygments_lexer": "ipython3",
   "version": "3.9.12"
  }
 },
 "nbformat": 4,
 "nbformat_minor": 5
}
