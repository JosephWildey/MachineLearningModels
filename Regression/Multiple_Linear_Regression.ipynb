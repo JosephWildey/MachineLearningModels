{
 "cells": [
  {
   "cell_type": "markdown",
   "id": "4b7f2cca",
   "metadata": {
    "colab_type": "text",
    "id": "view-in-github"
   },
   "source": [
    "<a href=\"https://colab.research.google.com/github/JosephWildey/MachineLearningModels/blob/main/Multiple_Linear_Regression.ipynb\" target=\"_parent\"><img src=\"https://colab.research.google.com/assets/colab-badge.svg\" alt=\"Open In Colab\"/></a>"
   ]
  },
  {
   "cell_type": "markdown",
   "id": "01a49294",
   "metadata": {
    "id": "01a49294"
   },
   "source": [
    "# Multiple Linear Regression\n",
    "\n",
    "While a Simple Linear Regression uses a single term to explain an output, a multilinear regression model takes in several inputs to explain a simple output."
   ]
  },
  {
   "cell_type": "markdown",
   "id": "0f477fc5",
   "metadata": {},
   "source": [
    "## Problem Statement\n",
    "\n",
    "An investor wants to know how several factors impact a business's profits: the state in which it does business, how much it spends on R&D, how much it spends on its administration, and how much it spends on marketing."
   ]
  },
  {
   "cell_type": "markdown",
   "id": "e90e11ae",
   "metadata": {},
   "source": [
    "## Index\n",
    "1. [Data Preprocessing](http://localhost:8888/notebooks/MachineLearningModels/Multiple_Linear_Regression.ipynb#Data-Preprocessing)\n",
    "2. [Model Training](http://localhost:8888/notebooks/MachineLearningModels/Multiple_Linear_Regression.ipynb#Training-the-Multiple-Linear-Regression-Model)\n",
    "3. [Predictions and Final Equation](http://localhost:8888/notebooks/MachineLearningModels/Multiple_Linear_Regression.ipynb#Predictions-and-final-equation)\n",
    "4. [Conclusion](http://localhost:8888/notebooks/MachineLearningModels/Multiple_Linear_Regression.ipynb#Conclusion)"
   ]
  },
  {
   "cell_type": "markdown",
   "id": "72de6c5e",
   "metadata": {},
   "source": [
    "## Data Preprocessing"
   ]
  },
  {
   "cell_type": "markdown",
   "id": "f067ce73",
   "metadata": {
    "id": "f067ce73"
   },
   "source": [
    "### import libraries"
   ]
  },
  {
   "cell_type": "code",
   "execution_count": 7,
   "id": "5c34508f",
   "metadata": {
    "id": "5c34508f"
   },
   "outputs": [],
   "source": [
    "import numpy as np\n",
    "import matplotlib.pyplot as plt\n",
    "import pandas as pd"
   ]
  },
  {
   "cell_type": "markdown",
   "id": "96344932",
   "metadata": {
    "id": "96344932"
   },
   "source": [
    "### import the dataset\n",
    "\n",
    "This dataset includes financial performance information from 50 startups. It uses the \"50_startups\" file in the \"Data\" folder."
   ]
  },
  {
   "cell_type": "code",
   "execution_count": 20,
   "id": "4eebdceb",
   "metadata": {
    "id": "4eebdceb"
   },
   "outputs": [],
   "source": [
    "dataset = pd.read_csv(\"\\\\Data\\\\50_Startups.csv\")\n",
    "x = dataset.iloc[:, :-1].values\n",
    "y = dataset.iloc[:, -1].values"
   ]
  },
  {
   "cell_type": "markdown",
   "id": "2a160281",
   "metadata": {
    "id": "2a160281"
   },
   "source": [
    "### Encoding Categorical Data\n",
    "\n",
    "Keep in mind the country data will switch from the final column to the first column. The method of encoding used will be one-hot encoding which uses binary (0,1) values to change strings to numerical values."
   ]
  },
  {
   "cell_type": "code",
   "execution_count": 12,
   "id": "028e807a",
   "metadata": {
    "id": "028e807a"
   },
   "outputs": [],
   "source": [
    "from sklearn.compose import ColumnTransformer\n",
    "from sklearn.preprocessing import OneHotEncoder\n",
    "ct = ColumnTransformer(transformers=[('encoder', OneHotEncoder(), [-1])], remainder='passthrough')\n",
    "x = np.array(ct.fit_transform(x))"
   ]
  },
  {
   "cell_type": "markdown",
   "id": "ba6ce584",
   "metadata": {
    "id": "ba6ce584"
   },
   "source": [
    "### Splitting the dataset "
   ]
  },
  {
   "cell_type": "code",
   "execution_count": 13,
   "id": "1508ecdc",
   "metadata": {
    "id": "1508ecdc"
   },
   "outputs": [],
   "source": [
    "from sklearn.model_selection import train_test_split\n",
    "X_train, X_test, Y_train, Y_test = train_test_split(x, y, test_size = 0.2, random_state = 1)"
   ]
  },
  {
   "cell_type": "markdown",
   "id": "65b4c1a0",
   "metadata": {
    "id": "65b4c1a0"
   },
   "source": [
    "## Training the Multiple Linear Regression Model"
   ]
  },
  {
   "cell_type": "code",
   "execution_count": 14,
   "id": "49445888",
   "metadata": {
    "id": "49445888",
    "outputId": "5a7c423d-8c62-4479-d3fd-f9c4b378c716",
    "scrolled": true
   },
   "outputs": [
    {
     "data": {
      "text/plain": [
       "LinearRegression()"
      ]
     },
     "execution_count": 14,
     "metadata": {},
     "output_type": "execute_result"
    }
   ],
   "source": [
    "from sklearn.linear_model import LinearRegression\n",
    "regressor = LinearRegression()\n",
    "regressor.fit(X_train, Y_train)"
   ]
  },
  {
   "cell_type": "markdown",
   "id": "bc49d835",
   "metadata": {},
   "source": [
    "## Predictions and final equation"
   ]
  },
  {
   "cell_type": "markdown",
   "id": "366ae142",
   "metadata": {
    "id": "366ae142"
   },
   "source": [
    "### Predicting the Test Set Results\n",
    "\n",
    "Import caveat: This dataset has several features, not just one. Up to now everything has followed the same methodology as having one feature.\n",
    "\n",
    "Instead of attempting to graph a 5-D plot, we will display two vectors. The first vector will be the predicted profit in the test set. There will also be a vector to show real results.\n",
    "\n",
    "The step to get the first vector is the same as to get the prediction in Simple Linear Regression.\n",
    "\n",
    "The final step will be to display the predicted and profit vector results side-by-side using Numpy. Numpy has a lot of methods to handle arrays making it a natural choice for this goal.The method is concatenate which allows the concatenation of either vertically or horizontally two vectors or even arrays.\n",
    "\n",
    "The step of combining and displaying two vectors starts with print, so we can print the output to the screen. Within print we can call the concatenate method of numpy.The concatenate method requires two vectors of the same shape (eg. 3x1, 3x1 or 1x3, 1x3). Also, they must be in parentheses because the concatenate method expects a tuple of vectors to concatenate.\n",
    "\n",
    "Reshape is an attribute function of numpy concatenate that allows you to reshape vectors vertically or horizontally. We use len because the function requires the amount of columns in y_pred. The same idea can then be applied to the second vector, Y_test.\n",
    "\n",
    "Concatenate can take two arguments: 0 or 1. 0 means you want to a vertical concatenation, and 1 means you want to do a horizontal concatenation."
   ]
  },
  {
   "cell_type": "code",
   "execution_count": 15,
   "id": "92e4f0e3",
   "metadata": {
    "id": "92e4f0e3",
    "outputId": "4cc3f9c5-36b7-49b3-cb2a-d9005b81a669"
   },
   "outputs": [
    {
     "name": "stdout",
     "output_type": "stream",
     "text": [
      "[[114664.42 105008.31]\n",
      " [ 90593.16  96479.51]\n",
      " [ 75692.84  78239.91]\n",
      " [ 70221.89  81229.06]\n",
      " [179790.26 191050.39]\n",
      " [171576.92 182901.99]\n",
      " [ 49753.59  35673.41]\n",
      " [102276.66 101004.64]\n",
      " [ 58649.38  49490.75]\n",
      " [ 98272.03  97483.56]]\n"
     ]
    }
   ],
   "source": [
    "y_pred = regressor.predict(X_test)\n",
    "np.set_printoptions(precision=2)\n",
    "print(np.concatenate((y_pred.reshape(len(y_pred), 1), Y_test.reshape(len(Y_test), 1)), 1))"
   ]
  },
  {
   "cell_type": "markdown",
   "id": "d1656aef",
   "metadata": {
    "id": "d1656aef"
   },
   "source": [
    "### Making a Single Prediction"
   ]
  },
  {
   "cell_type": "code",
   "execution_count": 16,
   "id": "733dfb9b",
   "metadata": {
    "id": "733dfb9b",
    "outputId": "9f301a8d-408d-4a58-e87e-b1e13b59b613"
   },
   "outputs": [
    {
     "name": "stdout",
     "output_type": "stream",
     "text": [
      "[180892.25]\n"
     ]
    }
   ],
   "source": [
    "print(regressor.predict([[1, 0, 0, 160000, 130000, 300000]]))"
   ]
  },
  {
   "cell_type": "markdown",
   "id": "18683d1b",
   "metadata": {
    "id": "18683d1b"
   },
   "source": [
    "This means according to our model that the profit of a Californian startup which spent \\$160,000 in R&D, \\$130,000 in Admin, and \\$300,000 in marketing was \\$180,892.25.\n",
    "\n",
    "We use a double array because the predict function always expects a 2d array. \n",
    "\n",
    "Dummy variables are the first three values, not the last three."
   ]
  },
  {
   "cell_type": "markdown",
   "id": "990f52e9",
   "metadata": {
    "id": "990f52e9"
   },
   "source": [
    "### Getting the final linear regression equation with the values of the coefficients"
   ]
  },
  {
   "cell_type": "code",
   "execution_count": 17,
   "id": "95617b25",
   "metadata": {
    "id": "95617b25",
    "outputId": "0727750e-95df-48e9-a745-a0b911c17354"
   },
   "outputs": [
    {
     "name": "stdout",
     "output_type": "stream",
     "text": [
      "[-2.85e+02  2.98e+02 -1.24e+01  7.74e-01 -9.44e-03  2.89e-02]\n",
      "49834.885073226884\n"
     ]
    }
   ],
   "source": [
    "print(regressor.coef_)\n",
    "print(regressor.intercept_)"
   ]
  },
  {
   "cell_type": "markdown",
   "id": "246ab7a1",
   "metadata": {
    "id": "246ab7a1"
   },
   "source": [
    "Profit = -285 x Dummy State 1 + 298 x Dummy State 2 - 12.4 x Dummy State 3 + 0.774 x R&D Spend - 0.00944 x Admin 0.0289 x Marketing + 49834.89"
   ]
  },
  {
   "cell_type": "markdown",
   "id": "ed5d5f1e",
   "metadata": {},
   "source": [
    "## Conclusion"
   ]
  },
  {
   "cell_type": "markdown",
   "id": "ad310370",
   "metadata": {},
   "source": [
    "Marketing and Dummy State two seem to be the best terms for producing a company's profits. "
   ]
  }
 ],
 "metadata": {
  "colab": {
   "include_colab_link": true,
   "name": "Multiple Linear Regression.ipynb",
   "provenance": []
  },
  "kernelspec": {
   "display_name": "Python 3 (ipykernel)",
   "language": "python",
   "name": "python3"
  },
  "language_info": {
   "codemirror_mode": {
    "name": "ipython",
    "version": 3
   },
   "file_extension": ".py",
   "mimetype": "text/x-python",
   "name": "python",
   "nbconvert_exporter": "python",
   "pygments_lexer": "ipython3",
   "version": "3.9.12"
  }
 },
 "nbformat": 4,
 "nbformat_minor": 5
}
